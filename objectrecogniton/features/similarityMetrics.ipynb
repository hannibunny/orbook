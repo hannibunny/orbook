{
 "cells": [
  {
   "cell_type": "markdown",
   "id": "frozen-knife",
   "metadata": {},
   "source": [
    "# Similarity Measures\n",
    "\n",
    "* Author: Johannes Maucher\n",
    "* Last update: 15th February 2021\n"
   ]
  },
  {
   "cell_type": "markdown",
   "id": "fantastic-tournament",
   "metadata": {},
   "source": [
    "In many computer vision tasks it is necessary to compare the similarity between images and image-regions. In [the introduction of image features](globalDescriptors.ipynb) global-, subwindow- and local- image descriptors have been distinguished. Independent of this descriptor type, each descriptor is a numeric vector. Hence, in order to compare image(-regions) we need methods to calculate the similarity of numeric vectors. Actually there exists a bunch of different similarity-measures. The most important of them are defined in this section.\n",
    "\n"
   ]
  },
  {
   "cell_type": "markdown",
   "id": "wound-allocation",
   "metadata": {},
   "source": [
    "**Motivation:**\n",
    "Given the following 3 vectors `v1`, `v2` and `v3`, the question is: \n",
    "\n",
    "*Is `v1` or `v3` more similar to `v2`?* "
   ]
  },
  {
   "cell_type": "code",
   "execution_count": 1,
   "id": "internal-jefferson",
   "metadata": {},
   "outputs": [
    {
     "name": "stdout",
     "output_type": "stream",
     "text": [
      "v1 =  [1 5 1 1 1 7 1 1]\n",
      "v2 =  [1 1 5 1 1 1 7 1]\n",
      "v3 =  [7 5 1 1 1 1 1 1]\n"
     ]
    }
   ],
   "source": [
    "import numpy as np\n",
    "v1=np.array([1,5,1,1,1,7,1,1])\n",
    "print(\"v1 = \",v1)\n",
    "v2=np.array([1,1,5,1,1,1,7,1])\n",
    "print(\"v2 = \",v2)\n",
    "v3=np.array([7,5,1,1,1,1,1,1])\n",
    "print(\"v3 = \",v3)"
   ]
  },
  {
   "cell_type": "markdown",
   "id": "typical-graduate",
   "metadata": {},
   "source": [
    "The 3 vectors are visualized below:"
   ]
  },
  {
   "cell_type": "code",
   "execution_count": 2,
   "id": "apart-eight",
   "metadata": {
    "scrolled": false
   },
   "outputs": [
    {
     "data": {
      "image/png": "[encoded data removed]",
      "text/plain": [
       "<Figure size 720x864 with 3 Axes>"
      ]
     },
     "metadata": {
      "needs_background": "light"
     },
     "output_type": "display_data"
    }
   ],
   "source": [
    "from matplotlib import pyplot as plt\n",
    "plt.figure(figsize=(10,12))\n",
    "plt.subplot(3,1,1)\n",
    "plt.bar(np.arange(0,8),v1,color=\"orange\",alpha=0.5)\n",
    "plt.title(\"Visualization of v1\")\n",
    "plt.subplot(3,1,2)\n",
    "plt.bar(np.arange(0,8),v2,color=\"magenta\",alpha=0.5)\n",
    "plt.title(\"Visualization of v2\")\n",
    "plt.subplot(3,1,3)\n",
    "plt.bar(np.arange(0,8),v3,color=\"cyan\",alpha=0.5)\n",
    "plt.title(\"Visualization of v3\")\n",
    "plt.show()"
   ]
  },
  {
   "cell_type": "markdown",
   "id": "divine-sunrise",
   "metadata": {},
   "source": [
    "## Similarity and Distance\n",
    "The **similarity** between a pair of vectors $\\mathbf{u}=(u_0,u_1,\\ldots,u_{N-1})$ and $\\mathbf{v}=(v_0,v_1,\\ldots,v_{N-1})$, each of length $N$, is denoted by \n",
    "\n",
    "$$s(\\mathbf{u},\\mathbf{v}).$$ \n",
    "\n",
    "The **distance** between the same pair of vectors is denoted by \n",
    "\n",
    "$$d(\\mathbf{u},\\mathbf{v}).$$ \n",
    "\n",
    "Distance and similarity are inverse to each other, i.e. the higher the distance the lower the similarity between anc vice versa. Below the most important distance- and similarity-measures are described. Some of them are primarily defined as distance-metric (e.g. euclidean distance) and a transformation-function can be applied to compute the associated similarity. Others are primarily defined as similarity-metric (e.g. cosine similarity) and a transformation function can be applied to compute the associated distance.\n",
    "\n",
    "In the context of this section vectors represent Histograms. However, the distance metrics described below can be applied for arbitrary numeric vectors. \n",
    "\n",
    "We denote by \n",
    "\n",
    "\\begin{equation}\n",
    "H_q = \\left(H_q(0),H_q(1),H_q(2),\\ldots,H_q(N) \\right)\n",
    "\\end{equation}\n",
    "\n",
    "the N-bin histogram of an image(-region) $q$. The value $H_q(i)$ is the frequency of the values in $q$, which fall into the $i.th$ bin.\n",
    "\n",
    "**Normalized Histogram:**\n",
    "\n",
    "A normalized representation $H^n_q$ of histogram $H_q$ can be obtained as follows:\n",
    "\n",
    "$$\n",
    "H^n_q := \\frac{1}{m_q} \\left(H_q(0),H_q(1),H_q(2),\\ldots,H_q(Z) \\right),\n",
    "$$ (normalizehist)\n",
    "\n",
    "where\n",
    "\n",
    "\\begin{equation}\n",
    "m_q=\\sum\\limits_{i=1}^Z H_q(i)\n",
    "\\end{equation}"
   ]
  },
  {
   "cell_type": "markdown",
   "id": "described-parker",
   "metadata": {},
   "source": [
    "## Common Distance- and Similarity Metrics\n",
    "\n",
    "\n",
    "\n",
    "### Euclidean Distance\n",
    "\n",
    "The Euclidean distance between two histograms $H_q$ and $H_p$ is\n",
    "\n",
    "\\begin{equation}\n",
    "d_E(H_q,H_p)=\\sqrt{\\sum_i (H_q(i)-H_p(i))^2}\n",
    "\\end{equation}\n",
    "\n",
    "The corresponding similarity measure is\n",
    "\n",
    "\\begin{equation}\n",
    "s_E(H_q,H_p)=\\frac{1}{d_E(H_q,H_p)+\\epsilon},\n",
    "\\end{equation}\n",
    "\n",
    "where $\\epsilon$ is a small value $>0$, used to avoid zero-division.\n",
    "\n",
    "Characteristics of the Euclidean distance $d_E(H_q,H_p)$ are:\n",
    "\n",
    "- Value range: In general $[0,\\infty[$.\n",
    "- All bins are weighted equally\n",
    "- Strong impact of outliers\n",
    "- *Bin-by-Bin comparison*. Drawback: If two images are identical up to a small brightness change, then the histograms look similar up to a small shift along the x-axis (see $v1$ and $v2$ in the example above). However, such a type of similarity can not be measured by a Bin-by-Bin metric.\n",
    "\n"
   ]
  },
  {
   "cell_type": "markdown",
   "id": "dominican-absolute",
   "metadata": {},
   "source": [
    "### Cosine Similarity\n",
    "\n",
    "The Cosine similarity between two histograms $H_q$ and $H_p$ is\n",
    "\n",
    "\\begin{equation}\n",
    "s_C(H_q,H_p)= \\frac{\\sum_i H_q(i)\\cdot H_p(i)}{\\sqrt{\\sum_i H_q(i)^2 \\cdot \\sum_i H_p(i)^2}},\n",
    "\\end{equation}\n",
    "\n",
    "\n",
    "The corresponding distance measure is\n",
    "\n",
    "\\begin{equation}\n",
    "d_C(H_q,H_p)=1-s_C(H_q,H_p)\n",
    "\\end{equation}\n",
    "\n",
    "Characteristics of the Cosine similarity $s_C(H_q,H_p)$:\n",
    "\n",
    "- Value range: $[-1,1]$ \n",
    "- Bin-by-bin comparison\n",
    "- Regards the angle between vectors. Two vectors are maximal similar, if they point to the same direction (the angle between them is 0°)."
   ]
  },
  {
   "cell_type": "markdown",
   "id": "adolescent-applicant",
   "metadata": {},
   "source": [
    "### Pearson Correlation \n",
    "\n",
    "The Pearson correlation (similarity measure) between two histograms $H_q$ and $H_p$ is\n",
    "\n",
    "\\begin{equation}\n",
    "s_P(H_q,H_p)= \\frac{\\sum_i (H_q(i)-\\mu_q)\\cdot (H_p(i)-\\mu_p)}{\\sqrt{\\sum_i (H_q(i)-\\mu_q)^2 \\cdot \\sum_i (H_p(i)-\\mu_p)^2}},\n",
    "\\end{equation}\n",
    "\n",
    "where \n",
    "\n",
    "$$\n",
    "\\mu_q = \\frac{1}{N} \\sum\\limits_{i=1}^N H_q(i)\n",
    "$$\n",
    "\n",
    "is the mean value over all bins in $H_q$.\n",
    "\n",
    "The corresponding distance measure is\n",
    "\n",
    "\\begin{equation}\n",
    "d_P(H_q,H_p)=1-s_P(H_q,H_p)\n",
    "\\end{equation}\n",
    "\n",
    "Characteristics of the Pearson correlation $s_P(H_q,H_p)$:\n",
    "\n",
    "- Value range: $[-1,1]$ \n",
    "- Bin-by-bin comparison\n",
    "- Ignores different offsets and is an measure for linearity\n"
   ]
  },
  {
   "cell_type": "markdown",
   "id": "official-timer",
   "metadata": {},
   "source": [
    "### Bray-Curtis Distance\n",
    "\n",
    "The Bray-Curtis distance between two histograms $H_q$ and $H_p$ is\n",
    "\n",
    "\\begin{equation}\n",
    "d_{BC}(H_q,H_p)=\\frac{\\sum_i |H_q(i)-H_p(i)|}{\\sum_i|H_q(i)+H_p(i)|}\n",
    "\\end{equation}\n",
    "\n",
    "The corresponding similarity measure is\n",
    "\n",
    "\\begin{equation}\n",
    "s_{BC}(H_q,H_p)=1-d_{BC}(H_q,H_p)\n",
    "\\end{equation}\n",
    "\n",
    "Characteristics:\n",
    "\n",
    "- Value range: $[0,1]$ for positive signals as in the case of histograms\n",
    "- Bin-by-bin comparison\n",
    "- More robust w.r.t. outliers than euclidean distance\n",
    "- Each bin difference is weighted equally\n"
   ]
  },
  {
   "cell_type": "markdown",
   "id": "bulgarian-harvey",
   "metadata": {},
   "source": [
    "### Canberra Distance\n",
    "\n",
    "The Canberra distance between two histograms $H_q$ and $H_p$ is\n",
    "\n",
    "\\begin{equation}\n",
    "d_{Ca}(H_q,H_p)=\\sum_i\\frac{|H_q(i)-H_p(i)|}{|H_q(i)|+|H_p(i)|}\n",
    "\\end{equation}\n",
    "\n",
    "The corresponding similarity measure is\n",
    "\n",
    "\\begin{equation}\n",
    "s_{Ca}(H_q,H_p)=1-d_{Ca}(H_q,H_p)\n",
    "\\end{equation}\n",
    "\n",
    "Characteristics:\n",
    "\n",
    "- Value range: $[0,1]$ \n",
    "- Bin-by-bin comparison\n",
    "- Compared to Bray-Curtis now each bin difference is weighted individually.\n"
   ]
  },
  {
   "cell_type": "markdown",
   "id": "convertible-visit",
   "metadata": {},
   "source": [
    "### Bhattacharyya Distance\n",
    "\n",
    "The Bhattacharyya distance between two normalized histograms $H^n_q$ and $H^n_p$ is\n",
    "\n",
    "\\begin{equation}\n",
    "d_{Ba}(H^n_q,H^n_p)= \\sqrt{1-\\sum_i \\sqrt{H^n_q(i) \\cdot H^n_p(i)}}\n",
    "\\end{equation}\n",
    "\n",
    "Characteristics:\n",
    "\n",
    "- Value range: $[0,1]$\n",
    "- Bin-by-bin comparison\n",
    "- Requires normalized inputs\n",
    "- Statistically motivated for measuring similarity between probability distributions. Here applied for the univariate case, but also applicable for multivariate distributions. \n",
    "\n"
   ]
  },
  {
   "cell_type": "markdown",
   "id": "macro-salad",
   "metadata": {},
   "source": [
    "### Chi-Square Distance\n",
    "\n",
    "The Chi-Square ($\\chi^2$) distance between two histograms $H_q$ and $H_p$ is\n",
    "\n",
    "\\begin{equation}\n",
    "d_{\\chi^2}(H_q,H_p)=\\sum_i \\frac{(H_q(i)-H_p(i))^2}{H_q(i)+H_p(i)}\n",
    "\\end{equation}\n",
    "\n",
    "\n",
    "The corresponding similarity measure is\n",
    "\n",
    "\\begin{equation}\n",
    "s_{\\chi^2}(H_q,H_p)=\\frac{1}{d_{\\chi^2}(H_q,H_p)+\\epsilon},\n",
    "\\end{equation}\n",
    "\n",
    "where $\\epsilon$ is a small value $>0$, used to avoid zero-division.\n",
    "\n",
    "\n",
    "Characteristics:\n",
    "\n",
    "- Value range: $[0,\\infty]$\n",
    "- Bin-by-bin comparison\n",
    "- Each bin is weighted individually\n",
    "- Statistically motivated for measuring similarity between probability distributions. Here applied for the univariate case, but also applicable for multivariate distributions. "
   ]
  },
  {
   "cell_type": "markdown",
   "id": "annual-reform",
   "metadata": {},
   "source": [
    "### Intersection Distance\n",
    "\n",
    "The Intersection distance between two histograms $H_q$ and $H_p$ is\n",
    "\n",
    "\\begin{equation}\n",
    "d_{IS}(H_q,H_p)=\\sum_i \\min(H_q(i),H_p(i))\n",
    "\\end{equation}\n",
    "\n",
    "The corresponding similarity measure is\n",
    "\n",
    "\\begin{equation}\n",
    "s_{IS}(H_q,H_p)=\\frac{1}{d_{IS}(H_q,H_p)+\\epsilon},\n",
    "\\end{equation}\n",
    "\n",
    "where $\\epsilon$ is a small value $>0$, used to avoid zero-division.\n",
    "\n",
    "\n",
    "\n",
    "Characteristics:\n",
    "\n",
    "- Histograms shall be normalized \n",
    "- Value range is $[0,\\infty]$\n",
    "- Bin-by-bin comparison\n",
    "- Measures intersection of both histograms\n",
    "- Introduced in {cite}`swainballard` for color histogram comparison\n"
   ]
  },
  {
   "cell_type": "markdown",
   "id": "cleared-belle",
   "metadata": {},
   "source": [
    "### Earth Mover Distance (Wasserstein Distance)\n",
    "\n",
    "All of the distance measures introduced so far, ingore shift-similarity. Shift-similar means, that one histogram is the shifted version of the other. This is actually the case for vectors $v1$ and $v2$ in the example above. The previously defined distance measure compare bin-by-bin. Therefore, they are not able to detect the shift-similarity.\n",
    "\n",
    "The Earth Mover Distance (EMD) has been introduced in {cite}`rubner`. It's not a bin-by-bin similarity measure and it is capable to detect shift-similarity. The drawback of the EMD is that it is quite complex to calculate."
   ]
  },
  {
   "cell_type": "markdown",
   "id": "motivated-financing",
   "metadata": {},
   "source": [
    "The EMD between two histograms measures the amount of work, which is necessary to transform one histogram to the other, where work is the product of \n",
    "\n",
    "$$\n",
    "\\mbox{amount of pieces that must be shifted} \\cdot \\mbox{distance of corresponding shift}. \n",
    "$$\n",
    "\n",
    "The idea is sketched in the pictures below:\n",
    "\n",
    "<img src=\"https://maucher.home.hdm-stuttgart.de/Pics/emdAll.png\" style=\"width:600px\" align=\"center\">"
   ]
  },
  {
   "cell_type": "markdown",
   "id": "suburban-celebrity",
   "metadata": {},
   "source": [
    "The EMD requires the two histograms to be normalized, i.e. both histograms contain the equal amount of *earth*.\n",
    "\n",
    "$$\n",
    "Work  =  \\sum (\\mbox{ distance moved }) \\cdot  (\\mbox{ amount moved })\n",
    "$$\n",
    "\n",
    "$$\n",
    "Work  =  \\sum\\limits_{a=1}^m \\sum\\limits_{b=1}^n d_{a,b} \\cdot  f_{a,b}\n",
    "$$ (work)\n",
    "\n",
    "where $m$ is the number of bins in histogram $H_p$ and $n$ is the number of bins in histogram $H_q$. \n",
    "\n",
    "\n",
    "\n",
    "\n",
    "The Earth Mover Distance $d_{emd}(H_q,H_p)$ between histogram $H_q$ and histogram $H_p$ is the minimum possible amount of work, required to convert $H_p$ into $H_q$, divided by the sum over all $f_{a,b}$:\n",
    "\n",
    "$$\n",
    "Work  =  \\frac{\\sum\\limits_{a=1}^m \\sum\\limits_{b=1}^n d_{a,b} \\cdot  f_{a,b}}{\\sum\\limits_{a=1}^m \\sum\\limits_{b=1}^n  f_{a,b}}\n",
    "$$ (worknormalized)\n",
    "\n"
   ]
  },
  {
   "cell_type": "markdown",
   "id": "informal-pursuit",
   "metadata": {},
   "source": [
    "The EMD is also called Wasserstein-Distance (see [Wikipedia](https://en.wikipedia.org/wiki/Wasserstein_metric)). A nice example for calculating the EMD between two 2-dimensional distributions can be found [here](https://jamesmccaffrey.wordpress.com/2018/03/05/earth-mover-distance-wasserstein-metric-example-calculation/).  "
   ]
  },
  {
   "cell_type": "markdown",
   "id": "eight-currency",
   "metadata": {},
   "source": [
    "#### Calculation of EMD (Wasserstein-Distance) with scipy\n",
    "In order to calculate the Wasserstein-distance the [scipy method *wasserstein_distance*](https://docs.scipy.org/doc/scipy/reference/generated/scipy.stats.wasserstein_distance.html) can be applied. This function calculates a variant of the EMD by:\n",
    "1. The histograms are internally normalized, such that in both histograms the sum over all bins is 1 (like in equation {eq}`normalizehist` ).\n",
    "2. Work is calculated as in equation {eq}`work`, i.e. not normalized like in {eq}`worknormalized`.\n",
    "\n",
    "Below, we apply this scipy-method to calculate the Wasserstein-distance between $v1$, $v2$ and $v3$:"
   ]
  },
  {
   "cell_type": "code",
   "execution_count": 3,
   "id": "architectural-carol",
   "metadata": {},
   "outputs": [
    {
     "name": "stdout",
     "output_type": "stream",
     "text": [
      "v1 =  [1 5 1 1 1 7 1 1]\n",
      "v2 =  [1 1 5 1 1 1 7 1]\n",
      "v3 =  [7 5 1 1 1 1 1 1]\n"
     ]
    }
   ],
   "source": [
    "print(\"v1 = \",v1)\n",
    "print(\"v2 = \",v2)\n",
    "print(\"v3 = \",v3)"
   ]
  },
  {
   "cell_type": "markdown",
   "id": "impaired-signature",
   "metadata": {},
   "source": [
    "In order to calculate the EMD, the vectors $v1$, $v2$ and $v3$ are not sufficient, because these vectors contain only frequencies of 8 different values. It is clear that also the values must be defined. Here, we assume that \n",
    "- the first frequency (1 in $v1$) is the frequency of the value $0$ in the first distribution\n",
    "- the second frequency (5 in $v1$) is the frequency of the value $1$ in the first distribution\n",
    "- ...\n",
    "- the last frequency (1 in $v1$) is the frequency of the value $7$ in the first distribution \n",
    "\n",
    "We assume that for all 3 distributions we have the same set of 8 values and define them below:"
   ]
  },
  {
   "cell_type": "code",
   "execution_count": 4,
   "id": "compact-calcium",
   "metadata": {},
   "outputs": [
    {
     "data": {
      "text/plain": [
       "[0, 1, 2, 3, 4, 5, 6, 7]"
      ]
     },
     "execution_count": 4,
     "metadata": {},
     "output_type": "execute_result"
    }
   ],
   "source": [
    "values=list(range(8))\n",
    "values"
   ]
  },
  {
   "cell_type": "markdown",
   "id": "unavailable-chess",
   "metadata": {},
   "source": [
    "Then the pairwise Wasserstein-distances between $v1$, $v2$ and $v3$ can be calculated as follows:"
   ]
  },
  {
   "cell_type": "code",
   "execution_count": 5,
   "id": "revised-principle",
   "metadata": {},
   "outputs": [],
   "source": [
    "from scipy.stats import wasserstein_distance"
   ]
  },
  {
   "cell_type": "code",
   "execution_count": 6,
   "id": "romance-insertion",
   "metadata": {},
   "outputs": [
    {
     "name": "stdout",
     "output_type": "stream",
     "text": [
      "Wasserstein distance between v1 and v2 :  0.5555555555555555\n",
      "Wasserstein distance between v1 and v3 :  1.666666666666667\n",
      "Wasserstein distance between v2 and v3 :  2.2222222222222223\n"
     ]
    }
   ],
   "source": [
    "dw12=wasserstein_distance(values,values,v1,v2)\n",
    "print(\"Wasserstein distance between v1 and v2 : \",dw12)\n",
    "dw13=wasserstein_distance(values,values,v1,v3)\n",
    "print(\"Wasserstein distance between v1 and v3 : \",dw13)\n",
    "dw23=wasserstein_distance(values,values,v2,v3)\n",
    "print(\"Wasserstein distance between v2 and v3 : \",dw23)"
   ]
  },
  {
   "cell_type": "markdown",
   "id": "coastal-missile",
   "metadata": {},
   "source": [
    "Let's check the internal calculation by the example of $v1$ and $v2$:\n",
    "- As mentioned above, the scipy-method internally first normalizes the histograms:"
   ]
  },
  {
   "cell_type": "code",
   "execution_count": 7,
   "id": "asian-parts",
   "metadata": {},
   "outputs": [
    {
     "data": {
      "text/plain": [
       "array([0.05555556, 0.27777778, 0.05555556, 0.05555556, 0.05555556,\n",
       "       0.38888889, 0.05555556, 0.05555556])"
      ]
     },
     "execution_count": 7,
     "metadata": {},
     "output_type": "execute_result"
    }
   ],
   "source": [
    "v1norm=1/np.sum(v1)*v1\n",
    "v1norm"
   ]
  },
  {
   "cell_type": "code",
   "execution_count": 8,
   "id": "given-animal",
   "metadata": {},
   "outputs": [
    {
     "data": {
      "text/plain": [
       "array([0.05555556, 0.05555556, 0.27777778, 0.05555556, 0.05555556,\n",
       "       0.05555556, 0.38888889, 0.05555556])"
      ]
     },
     "execution_count": 8,
     "metadata": {},
     "output_type": "execute_result"
    }
   ],
   "source": [
    "v2norm=1/np.sum(v2)*v2\n",
    "v2norm"
   ]
  },
  {
   "cell_type": "markdown",
   "id": "future-procedure",
   "metadata": {},
   "source": [
    "* Next, in order to transform the normed $v1$ into the normed $v2$ \n",
    "    1. an amount of $4/18$ must be shifted over a distance of $1$ from bin 1 to bin 2.\n",
    "    2. an amount of $6/18$ must be shifted over a distance of $1$ from bin 5 to bin 6.\n",
    "\n",
    "* The calculated Wasserstein distance is then\n",
    "\n",
    "$$\n",
    "\\frac{4}{18} \\cdot 1 + \\frac{6}{18} \\cdot 1 = \\frac{10}{18} = 0.555\n",
    "$$"
   ]
  },
  {
   "cell_type": "markdown",
   "id": "primary-august",
   "metadata": {},
   "source": [
    "## Application of different Distance Metrics\n",
    "\n",
    "Below, we will apply all the distance measures introduced above on the pairwise similarity determination between our example-vectors vectors $v1$, $v2$ and $v3$. \n",
    "\n",
    "The [Scipy package spatial.distance](http://docs.scipy.org/doc/scipy/reference/spatial.distance.html) contains methods for calculating the euclidean-, Pearson-Correlation-, Canberra- and Bray-Curtis-distance. As already mentioned the EMD distance is implemented as *wasserstein_distance()* in [scipy.stats](https://docs.scipy.org/doc/scipy/reference/generated/scipy.stats.wasserstein_distance.html). The remaining distance measures as well as a corresponding normalization function are defined in this python program."
   ]
  },
  {
   "cell_type": "code",
   "execution_count": 19,
   "id": "manufactured-exemption",
   "metadata": {},
   "outputs": [],
   "source": [
    "def normalize(a):\n",
    "    s=np.sum(a)\n",
    "    return a/s\n",
    "\n",
    "def mindist(a,b):\n",
    "    return 1.0/(1+np.sum(np.minimum(a,b)))\n",
    "\n",
    "def bhattacharyya(a,b): # this is acutally the Hellinger distance,\n",
    "                        # which is a modification of Bhattacharyya\n",
    "                        # Implementation according to http://en.wikipedia.org/wiki/Bhattacharyya_distance\n",
    "    anorm=normalize(a)\n",
    "    bnorm=normalize(b)\n",
    "    BC=np.sum(np.sqrt(anorm*bnorm))\n",
    "    if BC > 1:\n",
    "        #print BC\n",
    "        return 0\n",
    "    else:\n",
    "        return np.sqrt(1-BC)\n",
    "\n",
    "def chi2(a,b):\n",
    "    idx=np.nonzero(a+b)\n",
    "    af=a[idx]\n",
    "    bf=b[idx]\n",
    "    return np.sum((af-bf)**2/(af+bf))"
   ]
  },
  {
   "cell_type": "code",
   "execution_count": 20,
   "id": "fabulous-business",
   "metadata": {},
   "outputs": [],
   "source": [
    "from scipy.spatial.distance import *\n",
    "from scipy.stats import wasserstein_distance"
   ]
  },
  {
   "cell_type": "code",
   "execution_count": 16,
   "id": "bearing-frederick",
   "metadata": {},
   "outputs": [],
   "source": [
    "methods=[euclidean,correlation,canberra,braycurtis,mindist,bhattacharyya,chi2,wasserstein_distance]\n",
    "methodName=[\"euclidean\",\"correlation\",\"canberra\",\"braycurtis\",\"intersection\",\"bhattacharyya\",\"chi2\",\"emd\"]"
   ]
  },
  {
   "cell_type": "code",
   "execution_count": 17,
   "id": "operational-indian",
   "metadata": {},
   "outputs": [
    {
     "data": {
      "text/html": [
       "<div>\n",
       "<style scoped>\n",
       "    .dataframe tbody tr th:only-of-type {\n",
       "        vertical-align: middle;\n",
       "    }\n",
       "\n",
       "    .dataframe tbody tr th {\n",
       "        vertical-align: top;\n",
       "    }\n",
       "\n",
       "    .dataframe thead th {\n",
       "        text-align: right;\n",
       "    }\n",
       "</style>\n",
       "<table border=\"1\" class=\"dataframe\">\n",
       "  <thead>\n",
       "    <tr style=\"text-align: right;\">\n",
       "      <th></th>\n",
       "      <th>v1-v2</th>\n",
       "      <th>v1-v3</th>\n",
       "      <th>v2-v3</th>\n",
       "    </tr>\n",
       "  </thead>\n",
       "  <tbody>\n",
       "    <tr>\n",
       "      <th>euclidean</th>\n",
       "      <td>NaN</td>\n",
       "      <td>NaN</td>\n",
       "      <td>NaN</td>\n",
       "    </tr>\n",
       "    <tr>\n",
       "      <th>correlation</th>\n",
       "      <td>NaN</td>\n",
       "      <td>NaN</td>\n",
       "      <td>NaN</td>\n",
       "    </tr>\n",
       "    <tr>\n",
       "      <th>canberra</th>\n",
       "      <td>NaN</td>\n",
       "      <td>NaN</td>\n",
       "      <td>NaN</td>\n",
       "    </tr>\n",
       "    <tr>\n",
       "      <th>braycurtis</th>\n",
       "      <td>NaN</td>\n",
       "      <td>NaN</td>\n",
       "      <td>NaN</td>\n",
       "    </tr>\n",
       "    <tr>\n",
       "      <th>intersection</th>\n",
       "      <td>NaN</td>\n",
       "      <td>NaN</td>\n",
       "      <td>NaN</td>\n",
       "    </tr>\n",
       "    <tr>\n",
       "      <th>bhattacharyya</th>\n",
       "      <td>NaN</td>\n",
       "      <td>NaN</td>\n",
       "      <td>NaN</td>\n",
       "    </tr>\n",
       "    <tr>\n",
       "      <th>chi2</th>\n",
       "      <td>NaN</td>\n",
       "      <td>NaN</td>\n",
       "      <td>NaN</td>\n",
       "    </tr>\n",
       "    <tr>\n",
       "      <th>emd</th>\n",
       "      <td>NaN</td>\n",
       "      <td>NaN</td>\n",
       "      <td>NaN</td>\n",
       "    </tr>\n",
       "  </tbody>\n",
       "</table>\n",
       "</div>"
      ],
      "text/plain": [
       "              v1-v2 v1-v3 v2-v3\n",
       "euclidean       NaN   NaN   NaN\n",
       "correlation     NaN   NaN   NaN\n",
       "canberra        NaN   NaN   NaN\n",
       "braycurtis      NaN   NaN   NaN\n",
       "intersection    NaN   NaN   NaN\n",
       "bhattacharyya   NaN   NaN   NaN\n",
       "chi2            NaN   NaN   NaN\n",
       "emd             NaN   NaN   NaN"
      ]
     },
     "execution_count": 17,
     "metadata": {},
     "output_type": "execute_result"
    }
   ],
   "source": [
    "import pandas as pd\n",
    "distDF=pd.DataFrame(index=methodName,columns=[\"v1-v2\", \"v1-v3\", \"v2-v3\"])"
   ]
  },
  {
   "cell_type": "code",
   "execution_count": 21,
   "id": "attempted-disabled",
   "metadata": {},
   "outputs": [
    {
     "data": {
      "text/html": [
       "<div>\n",
       "<style scoped>\n",
       "    .dataframe tbody tr th:only-of-type {\n",
       "        vertical-align: middle;\n",
       "    }\n",
       "\n",
       "    .dataframe tbody tr th {\n",
       "        vertical-align: top;\n",
       "    }\n",
       "\n",
       "    .dataframe thead th {\n",
       "        text-align: right;\n",
       "    }\n",
       "</style>\n",
       "<table border=\"1\" class=\"dataframe\">\n",
       "  <thead>\n",
       "    <tr style=\"text-align: right;\">\n",
       "      <th></th>\n",
       "      <th>v1-v2</th>\n",
       "      <th>v1-v3</th>\n",
       "      <th>v2-v3</th>\n",
       "    </tr>\n",
       "  </thead>\n",
       "  <tbody>\n",
       "    <tr>\n",
       "      <th>euclidean</th>\n",
       "      <td>10.198039</td>\n",
       "      <td>8.485281</td>\n",
       "      <td>10.198039</td>\n",
       "    </tr>\n",
       "    <tr>\n",
       "      <th>correlation</th>\n",
       "      <td>1.316456</td>\n",
       "      <td>0.911392</td>\n",
       "      <td>1.316456</td>\n",
       "    </tr>\n",
       "    <tr>\n",
       "      <th>canberra</th>\n",
       "      <td>2.833333</td>\n",
       "      <td>1.500000</td>\n",
       "      <td>2.833333</td>\n",
       "    </tr>\n",
       "    <tr>\n",
       "      <th>braycurtis</th>\n",
       "      <td>0.555556</td>\n",
       "      <td>0.333333</td>\n",
       "      <td>0.555556</td>\n",
       "    </tr>\n",
       "    <tr>\n",
       "      <th>intersection</th>\n",
       "      <td>0.111111</td>\n",
       "      <td>0.076923</td>\n",
       "      <td>0.111111</td>\n",
       "    </tr>\n",
       "    <tr>\n",
       "      <th>bhattacharyya</th>\n",
       "      <td>0.485132</td>\n",
       "      <td>0.387907</td>\n",
       "      <td>0.485132</td>\n",
       "    </tr>\n",
       "    <tr>\n",
       "      <th>chi2</th>\n",
       "      <td>14.333333</td>\n",
       "      <td>9.000000</td>\n",
       "      <td>14.333333</td>\n",
       "    </tr>\n",
       "    <tr>\n",
       "      <th>emd</th>\n",
       "      <td>0.555556</td>\n",
       "      <td>1.666667</td>\n",
       "      <td>2.222222</td>\n",
       "    </tr>\n",
       "  </tbody>\n",
       "</table>\n",
       "</div>"
      ],
      "text/plain": [
       "                   v1-v2     v1-v3      v2-v3\n",
       "euclidean      10.198039  8.485281  10.198039\n",
       "correlation     1.316456  0.911392   1.316456\n",
       "canberra        2.833333  1.500000   2.833333\n",
       "braycurtis      0.555556  0.333333   0.555556\n",
       "intersection    0.111111  0.076923   0.111111\n",
       "bhattacharyya   0.485132  0.387907   0.485132\n",
       "chi2           14.333333  9.000000  14.333333\n",
       "emd             0.555556  1.666667   2.222222"
      ]
     },
     "execution_count": 21,
     "metadata": {},
     "output_type": "execute_result"
    }
   ],
   "source": [
    "values = np.arange(0,len(v1))\n",
    "for j,m in enumerate(methods):\n",
    "    if j == len(methods)-1:\n",
    "       distDF.loc[methodName[j],\"v1-v2\"]=wasserstein_distance(values,values,v1,v2)\n",
    "       distDF.loc[methodName[j],\"v1-v3\"]=wasserstein_distance(values,values,v1,v3)\n",
    "       distDF.loc[methodName[j],\"v2-v3\"]=wasserstein_distance(values,values,v2,v3)\n",
    "    else: \n",
    "       distDF.loc[methodName[j],\"v1-v2\"]=m(v1,v2)\n",
    "       distDF.loc[methodName[j],\"v1-v3\"]=m(v1,v3)\n",
    "       distDF.loc[methodName[j],\"v2-v3\"]=m(v2,v3)\n",
    "distDF"
   ]
  },
  {
   "cell_type": "markdown",
   "id": "overhead-swing",
   "metadata": {},
   "source": [
    "The absolute distance values of different distance-measures can not be compared. But we can analyse the for each distance measure the relative distances. \n",
    "\n",
    "As can be seen all distance measures, except EMD, calculate the same distance between $v1$ and $v2$ as between $v2$ and $v3$. This is because these distance measures perform a bin-by-bin comparison, and these bin-by-bin comparisons are identical for both vector-pairs. Moreover, all metrics except EMD, find that $v1$ is closer to $v3$ than to $v2$. This contradicts the subjective assessment, because subjectively one would say $v2$ is closer to $v1$, because $v2$ is just a one-step-right-shift of $v1$. \n",
    "\n",
    "As will be demonstrated in the [next section](imageRetrieval.ipynb), the performance of, e.g. a CBIR system, strongly depends on the choice of the distance metric. The question on which metric will perform best in a given task and given data can not be determined in advance, it must be determined empirically."
   ]
  },
  {
   "cell_type": "code",
   "execution_count": null,
   "id": "weighted-tuesday",
   "metadata": {},
   "outputs": [],
   "source": []
  }
 ],
 "metadata": {
  "kernelspec": {
   "display_name": "Python 3",
   "language": "python",
   "name": "python3"
  },
  "language_info": {
   "codemirror_mode": {
    "name": "ipython",
    "version": 3
   },
   "file_extension": ".py",
   "mimetype": "text/x-python",
   "name": "python",
   "nbconvert_exporter": "python",
   "pygments_lexer": "ipython3",
   "version": "3.8.0"
  }
 },
 "nbformat": 4,
 "nbformat_minor": 5
}
