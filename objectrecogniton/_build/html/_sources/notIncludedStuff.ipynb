{
 "cells": [
  {
   "cell_type": "markdown",
   "metadata": {},
   "source": [
    "## Exercise\n",
    "Calculate Sobel-derivatives of the image *smallimg* as defined in the next row. Calculate magnitude and direction of sobel gradient. At which position of the image appears the maximum magnitude of the gradient?"
   ]
  },
  {
   "cell_type": "code",
   "execution_count": 5,
   "metadata": {
    "scrolled": true
   },
   "outputs": [],
   "source": [
    "import numpy as np\n",
    "from scipy import ndimage as ndi"
   ]
  },
  {
   "cell_type": "code",
   "execution_count": 6,
   "metadata": {},
   "outputs": [
    {
     "data": {
      "text/plain": [
       "array([[1, 5, 6],\n",
       "       [1, 6, 6],\n",
       "       [6, 6, 1]])"
      ]
     },
     "execution_count": 6,
     "metadata": {},
     "output_type": "execute_result"
    }
   ],
   "source": [
    "smallimg=np.array([[1,5,6],[1,6,6],[6,6,1]])\n",
    "smallimg"
   ]
  },
  {
   "cell_type": "code",
   "execution_count": 7,
   "metadata": {},
   "outputs": [
    {
     "name": "stdout",
     "output_type": "stream",
     "text": [
      "Gradient in x-direction\n",
      "[[ 17.  20.   3.]\n",
      " [ 14.  10.  -4.]\n",
      " [  5. -10. -15.]]\n",
      "Gradient in y-direction\n",
      "[[  1.   2.   1.]\n",
      " [ 16.   2. -14.]\n",
      " [ 15.   0. -15.]]\n"
     ]
    }
   ],
   "source": [
    "imx = np.zeros(smallimg.shape,dtype=np.float64)\n",
    "ndi.filters.sobel(smallimg,1,imx,mode=\"nearest\")\n",
    "imy = np.zeros(smallimg.shape,dtype=np.float64)\n",
    "ndi.filters.sobel(smallimg,0,imy,mode=\"nearest\")\n",
    "print(\"Gradient in x-direction\")\n",
    "print(imx)\n",
    "print(\"Gradient in y-direction\")\n",
    "print(imy)"
   ]
  },
  {
   "cell_type": "code",
   "execution_count": 8,
   "metadata": {},
   "outputs": [
    {
     "name": "stdout",
     "output_type": "stream",
     "text": [
      "Magnitude of Gradient:\n",
      "[[17.02938637 20.09975124  3.16227766]\n",
      " [21.26029163 10.19803903 14.56021978]\n",
      " [15.8113883  10.         21.21320344]]\n"
     ]
    }
   ],
   "source": [
    "magnitude=np.sqrt(imx**2+imy**2)\n",
    "print(\"Magnitude of Gradient:\")\n",
    "print(magnitude)"
   ]
  },
  {
   "cell_type": "code",
   "execution_count": 9,
   "metadata": {},
   "outputs": [
    {
     "name": "stdout",
     "output_type": "stream",
     "text": [
      "Direction of Gradient:\n",
      "[[ 0.05875582  0.09966865  0.32175055]\n",
      " [ 0.85196633  0.19739556  1.29249667]\n",
      " [ 1.24904577 -0.          0.78539816]]\n"
     ]
    }
   ],
   "source": [
    "direction =np.arctan(imy/imx)\n",
    "print(\"Direction of Gradient:\")\n",
    "print(direction)"
   ]
  },
  {
   "cell_type": "code",
   "execution_count": null,
   "metadata": {},
   "outputs": [],
   "source": []
  }
 ],
 "metadata": {
  "kernelspec": {
   "display_name": "Python 3",
   "language": "python",
   "name": "python3"
  },
  "language_info": {
   "codemirror_mode": {
    "name": "ipython",
    "version": 3
   },
   "file_extension": ".py",
   "mimetype": "text/x-python",
   "name": "python",
   "nbconvert_exporter": "python",
   "pygments_lexer": "ipython3",
   "version": "3.8.0"
  },
  "toc": {
   "base_numbering": 1,
   "nav_menu": {},
   "number_sections": true,
   "sideBar": true,
   "skip_h1_title": false,
   "title_cell": "Table of Contents",
   "title_sidebar": "Contents",
   "toc_cell": false,
   "toc_position": {},
   "toc_section_display": true,
   "toc_window_display": false
  }
 },
 "nbformat": 4,
 "nbformat_minor": 4
}
