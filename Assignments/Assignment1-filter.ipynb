{
 "cells": [
  {
   "cell_type": "markdown",
   "metadata": {},
   "source": [
    "# Assignment 1: Filter Operations\n",
    "* Credits: 20\n",
    "* Submit .ipynb, .html and required resources to maucher(at)hdm-stuttgart.de"
   ]
  },
  {
   "cell_type": "markdown",
   "metadata": {},
   "source": [
    "In this assignment filter-operations, which have been introduced in notebook [02filtering.ipynb](../preprocessing/02filtering.ipynb) shall be implemented. In particular\n",
    "* Applying convolution-filtering to calculate the gradient of an image\n",
    "* Finding pre-defined patterns in an image\n",
    "\n",
    "The import of images and videos is described in notebook [01accessImage.ipynb](../preprocessing/01accessImage.ipynb)."
   ]
  },
  {
   "cell_type": "markdown",
   "metadata": {},
   "source": [
    "## Task 1\n",
    "Choose an arbitrary image and calculate its\n",
    "* derivation $I_x$ in x-direction \n",
    "* derivation $I_y$ in y-direction\n",
    "* the gradients magnitude $L=\\sqrt{I_x^2+I_y^2}$\n",
    "\n",
    "Display the image, the derivations and the gradient's magnitude in the notebook\n"
   ]
  },
  {
   "cell_type": "code",
   "execution_count": null,
   "metadata": {},
   "outputs": [],
   "source": []
  },
  {
   "cell_type": "markdown",
   "metadata": {},
   "source": [
    "## Task 2\n",
    "Choose an arbitrary image, which contains a repeating structure or object.\n",
    "* Apply template matching in order to find all positions of the repeating structure or object.\n",
    "* Display the found postions in the image\n"
   ]
  },
  {
   "cell_type": "code",
   "execution_count": null,
   "metadata": {},
   "outputs": [],
   "source": []
  }
 ],
 "metadata": {
  "kernelspec": {
   "display_name": "Python 3",
   "language": "python",
   "name": "python3"
  },
  "language_info": {
   "codemirror_mode": {
    "name": "ipython",
    "version": 3
   },
   "file_extension": ".py",
   "mimetype": "text/x-python",
   "name": "python",
   "nbconvert_exporter": "python",
   "pygments_lexer": "ipython3",
   "version": "3.7.3"
  },
  "toc": {
   "base_numbering": 1,
   "nav_menu": {},
   "number_sections": true,
   "sideBar": true,
   "skip_h1_title": false,
   "title_cell": "Table of Contents",
   "title_sidebar": "Contents",
   "toc_cell": false,
   "toc_position": {},
   "toc_section_display": true,
   "toc_window_display": false
  }
 },
 "nbformat": 4,
 "nbformat_minor": 4
}
