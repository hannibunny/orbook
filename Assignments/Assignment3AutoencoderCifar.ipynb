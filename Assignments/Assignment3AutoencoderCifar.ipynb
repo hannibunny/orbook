{
 "cells": [
  {
   "cell_type": "markdown",
   "metadata": {},
   "source": [
    "# Assignment 3: Image Retrieval from Latent Representation of Autoencoder\n",
    "\n",
    "* Credits: 30\n",
    "* Submit .ipynb, .html to maucher(at)hdm-stuttgart.de\n",
    "\n",
    "## Idea\n",
    "In notebook [01ImageRetrieval.ipynb](../imageRetrieval/01ImageRetrieval.ipynb) it has been shown how pretrained deep neural networks can be applied to calculate meaningful features. These meaningful features can be applied e.g. for image retrieval, i.e. similarities between images are not determined on the basis of pixels but on the basis of the feature-vectors calculated by deep neural networks. \n",
    "\n",
    "In this assignment another neural-network based approach to calculate meaningful feature-vectors of images shall be implemented: First an Autoencoder is trained. Then, from the trained network the latent-representation-layer (see below) is accessed. The layer contains the meaningful-features of the image, which is currently at the input of the network. In this way we calculate meaningful-feature vectors for all images and determine image similarities on the basis of these vectors.   "
   ]
  },
  {
   "cell_type": "markdown",
   "metadata": {},
   "source": [
    "## Autoencoder\n",
    "\n",
    "An autoencoder consists of an encoder- and a decoder-module. The encoder maps each input $\\mathbf{x}$ to a latent representation $\\mathbf{y}$, such that the decoder network is able to calculate a reconstruction $\\mathbf{z}$ from $\\mathbf{y}$, whereby $\\mathbf{z}$ must be as close as possible to the input $\\mathbf{x}$. The weights of the encoder- and decoder- module are learned by minimizing a loss-function, which measures the difference between the reconstruction $\\mathbf{z}$ and the original $\\mathbf{x}$. For this standard gradient descent supervised learning algorithms, such as backpropagation can be applied. Even though the inputs must not be labeled (the target ist the input itself)! \n",
    "<img src=\"https://maucher.home.hdm-stuttgart.de/Pics/autoencoder.png\" alt=\"Drawing\" style=\"width: 800px;\"/>\n",
    "Usually the latent representation $\\mathbf{y}$ is much smaller, than the original $\\mathbf{x}$ and it's reconstruction $\\mathbf{z}$. Hence, the entire process realizes a standard lossy compression, such as e.g. jpeg-encoding of images.\n",
    "\n",
    "The latent-representation contains the relevant information of the image - otherwise it would not be able to reconstruct the original from this small representation. This means, that the latent representation of the image, which is currently at the input of the Autoencoder is a gut feature-representation of the image and can be applied e.g. for image retrieval."
   ]
  },
  {
   "cell_type": "markdown",
   "metadata": {},
   "source": [
    "## Define, train and evaluate Autoencoder \n",
    "\n",
    "### Task 1\n",
    "In this task the architecture and the training of the autoencoder are already given. Just execute these codecells and try to understand the implementation:"
   ]
  },
  {
   "cell_type": "code",
   "execution_count": 1,
   "metadata": {},
   "outputs": [],
   "source": [
    "from tensorflow.keras.optimizers import Adam\n",
    "from tensorflow.keras.datasets import cifar10\n",
    "import matplotlib.pyplot as plt\n",
    "import numpy as np\n",
    "from tensorflow.keras.layers import BatchNormalization\n",
    "from tensorflow.keras.layers import Conv2D\n",
    "from tensorflow.keras.layers import Conv2DTranspose\n",
    "from tensorflow.keras.layers import LeakyReLU\n",
    "from tensorflow.keras.layers import Activation\n",
    "from tensorflow.keras.layers import Flatten\n",
    "from tensorflow.keras.layers import Dense\n",
    "from tensorflow.keras.layers import Reshape\n",
    "from tensorflow.keras.layers import Input\n",
    "from tensorflow.keras.models import Model\n",
    "from tensorflow.keras import backend as K"
   ]
  },
  {
   "cell_type": "markdown",
   "metadata": {},
   "source": [
    "Define the path, where the trained model shall be saved:"
   ]
  },
  {
   "cell_type": "code",
   "execution_count": 2,
   "metadata": {},
   "outputs": [],
   "source": [
    "modelpath=\"output/autoencoderCifar128.h5\""
   ]
  },
  {
   "cell_type": "markdown",
   "metadata": {},
   "source": [
    "Load Cifar10 dataset:"
   ]
  },
  {
   "cell_type": "code",
   "execution_count": 3,
   "metadata": {},
   "outputs": [
    {
     "name": "stdout",
     "output_type": "stream",
     "text": [
      "[INFO] loading MNIST dataset...\n"
     ]
    }
   ],
   "source": [
    "print(\"[INFO] loading MNIST dataset...\")\n",
    "((trainX, _), (testX, _)) = cifar10.load_data()"
   ]
  },
  {
   "cell_type": "markdown",
   "metadata": {},
   "source": [
    "Normalize training- and test-images"
   ]
  },
  {
   "cell_type": "code",
   "execution_count": 4,
   "metadata": {},
   "outputs": [],
   "source": [
    "trainX = trainX.astype(\"float32\") / 255.0\n",
    "testX = testX.astype(\"float32\") / 255.0"
   ]
  },
  {
   "cell_type": "markdown",
   "metadata": {},
   "source": [
    "Define height, width and number of channels of the images:"
   ]
  },
  {
   "cell_type": "code",
   "execution_count": 5,
   "metadata": {},
   "outputs": [],
   "source": [
    "width=height=32\n",
    "depth=3"
   ]
  },
  {
   "cell_type": "markdown",
   "metadata": {},
   "source": [
    "Define number of features in the Conv-Layers and the dimension of the latent representation:"
   ]
  },
  {
   "cell_type": "code",
   "execution_count": 6,
   "metadata": {},
   "outputs": [],
   "source": [
    "filters=(32, 64)\n",
    "latentDim=128"
   ]
  },
  {
   "cell_type": "markdown",
   "metadata": {},
   "source": [
    "Create Autoencoder:"
   ]
  },
  {
   "cell_type": "code",
   "execution_count": 7,
   "metadata": {},
   "outputs": [],
   "source": [
    "inputShape = (height, width, depth)\n",
    "chanDim = -1\n",
    "\n",
    "# define the input to the encoder\n",
    "inputs = Input(shape=inputShape)\n",
    "x = inputs\n",
    "\n",
    "# loop over the number of filters\n",
    "for f in filters:\n",
    "    # apply a CONV => RELU => BN operation\n",
    "    x = Conv2D(f, (3, 3), strides=2, padding=\"same\")(x)\n",
    "    x = LeakyReLU(alpha=0.2)(x)\n",
    "    x = BatchNormalization(axis=chanDim)(x)\n",
    "\n",
    "# flatten the network and then construct our latent vector\n",
    "volumeSize = K.int_shape(x)\n",
    "x = Flatten()(x)\n",
    "latent = Dense(latentDim, name=\"encoded\")(x)\n",
    "\n",
    "# start building the decoder model which will accept the\n",
    "# output of the encoder as its inputs\n",
    "x = Dense(np.prod(volumeSize[1:]))(latent)\n",
    "x = Reshape((volumeSize[1], volumeSize[2], volumeSize[3]))(x)\n",
    "\n",
    "# loop over our number of filters again, but this time in\n",
    "# reverse order\n",
    "for f in filters[::-1]:\n",
    "        # apply a CONV_TRANSPOSE => RELU => BN operation\n",
    "        x = Conv2DTranspose(f, (3, 3), strides=2,\n",
    "            padding=\"same\")(x)\n",
    "        x = LeakyReLU(alpha=0.2)(x)\n",
    "        x = BatchNormalization(axis=chanDim)(x)\n",
    "\n",
    "# apply a single CONV_TRANSPOSE layer used to recover the\n",
    "# original depth of the image\n",
    "x = Conv2DTranspose(depth, (3, 3), padding=\"same\")(x)\n",
    "outputs = Activation(\"sigmoid\", name=\"decoded\")(x)\n",
    "\n",
    "# construct our autoencoder model\n",
    "autoencoder = Model(inputs, outputs, name=\"autoencoder\")"
   ]
  },
  {
   "cell_type": "code",
   "execution_count": 8,
   "metadata": {},
   "outputs": [
    {
     "name": "stdout",
     "output_type": "stream",
     "text": [
      "Model: \"autoencoder\"\n",
      "_________________________________________________________________\n",
      "Layer (type)                 Output Shape              Param #   \n",
      "=================================================================\n",
      "input_1 (InputLayer)         [(None, 32, 32, 3)]       0         \n",
      "_________________________________________________________________\n",
      "conv2d (Conv2D)              (None, 16, 16, 32)        896       \n",
      "_________________________________________________________________\n",
      "leaky_re_lu (LeakyReLU)      (None, 16, 16, 32)        0         \n",
      "_________________________________________________________________\n",
      "batch_normalization (BatchNo (None, 16, 16, 32)        128       \n",
      "_________________________________________________________________\n",
      "conv2d_1 (Conv2D)            (None, 8, 8, 64)          18496     \n",
      "_________________________________________________________________\n",
      "leaky_re_lu_1 (LeakyReLU)    (None, 8, 8, 64)          0         \n",
      "_________________________________________________________________\n",
      "batch_normalization_1 (Batch (None, 8, 8, 64)          256       \n",
      "_________________________________________________________________\n",
      "flatten (Flatten)            (None, 4096)              0         \n",
      "_________________________________________________________________\n",
      "encoded (Dense)              (None, 128)               524416    \n",
      "_________________________________________________________________\n",
      "dense (Dense)                (None, 4096)              528384    \n",
      "_________________________________________________________________\n",
      "reshape (Reshape)            (None, 8, 8, 64)          0         \n",
      "_________________________________________________________________\n",
      "conv2d_transpose (Conv2DTran (None, 16, 16, 64)        36928     \n",
      "_________________________________________________________________\n",
      "leaky_re_lu_2 (LeakyReLU)    (None, 16, 16, 64)        0         \n",
      "_________________________________________________________________\n",
      "batch_normalization_2 (Batch (None, 16, 16, 64)        256       \n",
      "_________________________________________________________________\n",
      "conv2d_transpose_1 (Conv2DTr (None, 32, 32, 32)        18464     \n",
      "_________________________________________________________________\n",
      "leaky_re_lu_3 (LeakyReLU)    (None, 32, 32, 32)        0         \n",
      "_________________________________________________________________\n",
      "batch_normalization_3 (Batch (None, 32, 32, 32)        128       \n",
      "_________________________________________________________________\n",
      "conv2d_transpose_2 (Conv2DTr (None, 32, 32, 3)         867       \n",
      "_________________________________________________________________\n",
      "decoded (Activation)         (None, 32, 32, 3)         0         \n",
      "=================================================================\n",
      "Total params: 1,129,219\n",
      "Trainable params: 1,128,835\n",
      "Non-trainable params: 384\n",
      "_________________________________________________________________\n"
     ]
    }
   ],
   "source": [
    "autoencoder.summary()"
   ]
  },
  {
   "cell_type": "markdown",
   "metadata": {},
   "source": [
    "In the archictecture, defined above, the latent representation is at the layer, which is named `encoded`."
   ]
  },
  {
   "cell_type": "markdown",
   "metadata": {},
   "source": [
    "Define Training parameters: number of epochs to train for, initial learning rate and batch size"
   ]
  },
  {
   "cell_type": "code",
   "execution_count": 9,
   "metadata": {},
   "outputs": [],
   "source": [
    "# initialize the number of epochs to train for, initial learning rate,\n",
    "# and batch size\n",
    "EPOCHS = 20\n",
    "INIT_LR = 1e-3\n",
    "BS = 32"
   ]
  },
  {
   "cell_type": "markdown",
   "metadata": {},
   "source": [
    "Define the optimizer to be used for training:"
   ]
  },
  {
   "cell_type": "code",
   "execution_count": 11,
   "metadata": {},
   "outputs": [],
   "source": [
    "opt = Adam(lr=INIT_LR, decay=INIT_LR / EPOCHS)\n",
    "autoencoder.compile(loss=\"mse\", optimizer=opt)"
   ]
  },
  {
   "cell_type": "markdown",
   "metadata": {},
   "source": [
    "Train Autoencoder:"
   ]
  },
  {
   "cell_type": "code",
   "execution_count": 12,
   "metadata": {},
   "outputs": [
    {
     "name": "stdout",
     "output_type": "stream",
     "text": [
      "Train on 50000 samples, validate on 10000 samples\n",
      "Epoch 1/20\n",
      "50000/50000 [==============================] - 192s 4ms/sample - loss: 0.0094 - val_loss: 0.0055\n",
      "Epoch 2/20\n",
      "50000/50000 [==============================] - 196s 4ms/sample - loss: 0.0059 - val_loss: 0.0054\n",
      "Epoch 3/20\n",
      "50000/50000 [==============================] - 166s 3ms/sample - loss: 0.0056 - val_loss: 0.0051\n",
      "Epoch 4/20\n",
      "50000/50000 [==============================] - 161s 3ms/sample - loss: 0.0055 - val_loss: 0.0049\n",
      "Epoch 5/20\n",
      "50000/50000 [==============================] - 159s 3ms/sample - loss: 0.0053 - val_loss: 0.0050\n",
      "Epoch 6/20\n",
      "50000/50000 [==============================] - 142s 3ms/sample - loss: 0.0052 - val_loss: 0.0048\n",
      "Epoch 7/20\n",
      "50000/50000 [==============================] - 154s 3ms/sample - loss: 0.0051 - val_loss: 0.0049\n",
      "Epoch 8/20\n",
      "50000/50000 [==============================] - 164s 3ms/sample - loss: 0.0049 - val_loss: 0.0048\n",
      "Epoch 9/20\n",
      "50000/50000 [==============================] - 153s 3ms/sample - loss: 0.0048 - val_loss: 0.0048\n",
      "Epoch 10/20\n",
      "50000/50000 [==============================] - 165s 3ms/sample - loss: 0.0048 - val_loss: 0.0048\n",
      "Epoch 11/20\n",
      "50000/50000 [==============================] - 155s 3ms/sample - loss: 0.0048 - val_loss: 0.0047\n",
      "Epoch 12/20\n",
      "50000/50000 [==============================] - 165s 3ms/sample - loss: 0.0047 - val_loss: 0.0046\n",
      "Epoch 13/20\n",
      "50000/50000 [==============================] - 174s 3ms/sample - loss: 0.0047 - val_loss: 0.0046\n",
      "Epoch 14/20\n",
      "50000/50000 [==============================] - 168s 3ms/sample - loss: 0.0046 - val_loss: 0.0045\n",
      "Epoch 15/20\n",
      "50000/50000 [==============================] - 157s 3ms/sample - loss: 0.0046 - val_loss: 0.0046\n",
      "Epoch 16/20\n",
      "50000/50000 [==============================] - 156s 3ms/sample - loss: 0.0046 - val_loss: 0.0046\n",
      "Epoch 17/20\n",
      "50000/50000 [==============================] - 142s 3ms/sample - loss: 0.0046 - val_loss: 0.0046\n",
      "Epoch 18/20\n",
      "50000/50000 [==============================] - 165s 3ms/sample - loss: 0.0046 - val_loss: 0.0046\n",
      "Epoch 19/20\n",
      "50000/50000 [==============================] - 176s 4ms/sample - loss: 0.0045 - val_loss: 0.0045\n",
      "Epoch 20/20\n",
      "50000/50000 [==============================] - 163s 3ms/sample - loss: 0.0045 - val_loss: 0.0046\n"
     ]
    }
   ],
   "source": [
    "H = autoencoder.fit(\n",
    "    trainX, trainX,\n",
    "    validation_data=(testX, testX),\n",
    "    epochs=EPOCHS,\n",
    "    batch_size=BS)"
   ]
  },
  {
   "cell_type": "code",
   "execution_count": 13,
   "metadata": {},
   "outputs": [
    {
     "data": {
      "image/png": "[encoded data removed]",
      "text/plain": [
       "<Figure size 576x432 with 1 Axes>"
      ]
     },
     "metadata": {
      "needs_background": "light"
     },
     "output_type": "display_data"
    }
   ],
   "source": [
    "%matplotlib inline\n",
    "from matplotlib import pyplot as plt\n",
    "plt.figure(figsize=[8,6])\n",
    "plt.plot(H.history['loss'],'r',linewidth=3.0)\n",
    "plt.plot(H.history['val_loss'],'b',linewidth=3.0)\n",
    "plt.legend(['Training loss', 'Validation Loss'],fontsize=18)\n",
    "plt.xlabel('Epochs ',fontsize=16)\n",
    "plt.ylabel('Loss',fontsize=16)\n",
    "plt.title('Loss Curves',fontsize=16)\n",
    "plt.show()"
   ]
  },
  {
   "cell_type": "markdown",
   "metadata": {},
   "source": [
    "Persistently save the trained model:"
   ]
  },
  {
   "cell_type": "code",
   "execution_count": 15,
   "metadata": {},
   "outputs": [
    {
     "name": "stdout",
     "output_type": "stream",
     "text": [
      "[INFO] saving autoencoder...\n"
     ]
    }
   ],
   "source": [
    "# serialize the autoencoder model to disk\n",
    "print(\"[INFO] saving autoencoder...\")\n",
    "autoencoder.save(modelpath, save_format=\"h5\")"
   ]
  },
  {
   "cell_type": "markdown",
   "metadata": {},
   "source": [
    "## Load the trained Autoencoder\n",
    "In the following codecells only the encoder part of the trained Autoenocder is extracted:"
   ]
  },
  {
   "cell_type": "code",
   "execution_count": null,
   "metadata": {},
   "outputs": [],
   "source": [
    "from tensorflow.keras.models import load_model"
   ]
  },
  {
   "cell_type": "code",
   "execution_count": 11,
   "metadata": {},
   "outputs": [],
   "source": [
    "autoencoder=load_model(modelpath)"
   ]
  },
  {
   "cell_type": "code",
   "execution_count": 12,
   "metadata": {},
   "outputs": [],
   "source": [
    "encoder = Model(inputs=autoencoder.input,outputs=autoencoder.get_layer(\"encoded\").output)"
   ]
  },
  {
   "cell_type": "markdown",
   "metadata": {},
   "source": [
    "## Calculate latent representation of all training- and test-images\n",
    "### Task 2\n",
    "Apply the encoder's predict()-methode in order to calculate the latent representation of\n",
    "* all training images\n",
    "* all test images\n",
    "\n",
    "These latent representations are the *meaningful feature vectors* of the images, which shall be used in the following tasks. "
   ]
  },
  {
   "cell_type": "markdown",
   "metadata": {},
   "source": [
    "## Determine for all test images the 5 closest training images\n",
    "### Task 3\n",
    "For all test-images determine the 5 nearest training-images. For this task test- and training-images shall be represented by their latent representations and euclidean distance shall be applied. Determine the *Top-5 Error Rate*. This is the ratio of test-images, whose 5 nearest training-images do not contain an image of the same class as the the test-image. "
   ]
  },
  {
   "cell_type": "markdown",
   "metadata": {},
   "source": [
    "### Bonus Task:\n",
    "Improve the Autoencoder architecture and/or the training-parameters in order to obtain a better *Top-5-Error Rate*.\n"
   ]
  },
  {
   "cell_type": "code",
   "execution_count": null,
   "metadata": {},
   "outputs": [],
   "source": []
  }
 ],
 "metadata": {
  "kernelspec": {
   "display_name": "Python 3",
   "language": "python",
   "name": "python3"
  },
  "language_info": {
   "codemirror_mode": {
    "name": "ipython",
    "version": 3
   },
   "file_extension": ".py",
   "mimetype": "text/x-python",
   "name": "python",
   "nbconvert_exporter": "python",
   "pygments_lexer": "ipython3",
   "version": "3.7.3"
  },
  "toc": {
   "base_numbering": 1,
   "nav_menu": {},
   "number_sections": true,
   "sideBar": true,
   "skip_h1_title": false,
   "title_cell": "Table of Contents",
   "title_sidebar": "Contents",
   "toc_cell": false,
   "toc_position": {},
   "toc_section_display": true,
   "toc_window_display": false
  }
 },
 "nbformat": 4,
 "nbformat_minor": 4
}
