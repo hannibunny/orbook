{
 "cells": [
  {
   "cell_type": "markdown",
   "metadata": {},
   "source": [
    "# Assignment 2: Determine Object Angle "
   ]
  },
  {
   "cell_type": "markdown",
   "metadata": {},
   "source": [
    "\n",
    "* Credits: 30\n",
    "* Submit .ipynb, .html to maucher(at)hdm-stuttgart.de\n",
    "\n",
    "In this task the angle of an object (rotor blade) in an image shall be estimated by determining the maximum in the histogram of a suitable feature.\n"
   ]
  },
  {
   "cell_type": "markdown",
   "metadata": {},
   "source": [
    "## Import and display image\n",
    "**Task:** Load the image [propel.png](../Data/propel.png) from the `Data`direcory as a single channel greyscale image."
   ]
  },
  {
   "cell_type": "code",
   "execution_count": null,
   "metadata": {},
   "outputs": [],
   "source": []
  },
  {
   "cell_type": "markdown",
   "metadata": {},
   "source": [
    "## Determine and calculate suitable feature\n",
    "**Task:** In this task the angle of an object (rotor blade) in an image shall be estimated by determining the maximum in the histogram of a suitable feature.\n",
    "\n",
    "1. Which feature is suitable for this task?\n",
    "2. Determine this feature in the image by applying corresponding filters\n",
    "3. Display the *image*, which contains this features by applying *imshow()* from matplotlib's pyplot.\n"
   ]
  },
  {
   "cell_type": "code",
   "execution_count": null,
   "metadata": {},
   "outputs": [],
   "source": []
  },
  {
   "cell_type": "markdown",
   "metadata": {},
   "source": [
    "## Calculate Histogram and estimate angle\n",
    "**Task:** Determine the histogram, which displays the frequency of the values of your feature and estimate the angle of the object. "
   ]
  },
  {
   "cell_type": "code",
   "execution_count": null,
   "metadata": {},
   "outputs": [],
   "source": []
  },
  {
   "cell_type": "markdown",
   "metadata": {},
   "source": [
    "## Video-based RPM determination\n",
    "**Task:** How can this angle prediction be applied to determine the rotations per minute of a rotor blade of a wind turbine."
   ]
  },
  {
   "cell_type": "code",
   "execution_count": null,
   "metadata": {},
   "outputs": [],
   "source": []
  }
 ],
 "metadata": {
  "kernelspec": {
   "display_name": "Python 3",
   "language": "python",
   "name": "python3"
  },
  "language_info": {
   "codemirror_mode": {
    "name": "ipython",
    "version": 3
   },
   "file_extension": ".py",
   "mimetype": "text/x-python",
   "name": "python",
   "nbconvert_exporter": "python",
   "pygments_lexer": "ipython3",
   "version": "3.7.3"
  },
  "toc": {
   "base_numbering": 1,
   "nav_menu": {},
   "number_sections": true,
   "sideBar": true,
   "skip_h1_title": false,
   "title_cell": "Table of Contents",
   "title_sidebar": "Contents",
   "toc_cell": false,
   "toc_position": {},
   "toc_section_display": true,
   "toc_window_display": false
  }
 },
 "nbformat": 4,
 "nbformat_minor": 4
}
