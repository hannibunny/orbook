{
 "cells": [
  {
   "cell_type": "markdown",
   "metadata": {
    "slideshow": {
     "slide_type": "slide"
    }
   },
   "source": [
    "# Convolutional Neural Networks\n",
    "\n",
    "\n",
    "There exists different types of deep neural networks, e.g.\n",
    "* Convolutional Neural Networks (CNNs)\n",
    "* Deep Belief Networks (DBNs)\n",
    "* Stacked Autoencoders\n",
    "* (Hierarchical) Recurrent Networks\n",
    "* (Hierarchical) Attention Networks\n",
    "* Sequence-to-Sequence Networks\n",
    "* Transformer Networks\n",
    "* Deep Q-Networks (Deep Reinforcementlearning)\n",
    "* Generative Adversarial Networks\n",
    "\n",
    "and many variants of them. \n",
    "\n",
    "Among these different types, CNNs are currently the most relevant ones. This section describes the overall architecture and the different layer-types, applied in a CNN. "
   ]
  },
  {
   "cell_type": "markdown",
   "metadata": {
    "slideshow": {
     "slide_type": "slide"
    }
   },
   "source": [
    "## Overall Architecture\n",
    "\n",
    "### General Idea\n",
    "\n",
    "\n",
    "On an abstract level the architecture of a Deep Neural Network looks like this:\n",
    "\n",
    "<img src=\"https://maucher.home.hdm-stuttgart.de/Pics/dnnExtractorClassifier.png\" alt=\"Drawing\" style=\"width: 800px;\"/>\n",
    "\n",
    "The goal of deep learning is to extract meaningful features. The *Extractor-Part* of the network learns from low-level features (e.g. pixel values) at the input of the network a hierarchy of increasingly meaningful features. Using informative features a classifier at the end of the Deep Neural Network can easily determine the correct class (see also the sketch below and the [cat-example-image](#cnnconceptcat)). "
   ]
  },
  {
   "cell_type": "markdown",
   "metadata": {
    "slideshow": {
     "slide_type": "slide"
    }
   },
   "source": [
    "**Example:** Assume that a classifier shall learn to distinguish the two classes *House* and *Car*. The accuracy of such a classifier strongly depends on the type of input (= image representation) to the classifier. \n",
    "\n",
    "As sketched on the left hand-side of the picture below, one type of input is the image itself, i.e. the array of intensity-values of all pixels. Pixel-intensities are not very *informative* in the context of classification. Moreover, this type of input is quite large: $r \\times c \\times d$ values, where $r$ is the height, $c$ is the width and $d$ is the number of channels of the image. Hence, the classifier's accuracy can be expected to be low. It would be much better to pass more informative features to the classifier. For example better features could be edges of different directions or even more complex structures, which frequently appear in the training data and are informative in the sense, that they provide strong hints to determine the object's class. Moreover, as also depicted in the sketch below, it can also be helpful to not only encode *which feature is present* but also *where does the feature appear*. \n",
    "\n",
    "<img src=\"https://maucher.home.hdm-stuttgart.de/Pics/betterFeatures.png\"> "
   ]
  },
  {
   "cell_type": "markdown",
   "metadata": {
    "slideshow": {
     "slide_type": "slide"
    }
   },
   "source": [
    "**Visualization of learned features**\n",
    "\n",
    "In [Zeiler and Fergus: Visualizing and Understanding of Convolutional Neural Networks](https://arxiv.org/pdf/1311.2901.pdf) the authors demonstrated, that deep neural networks actually learn informative features (as sketched in the drawing above). The first layers learn quite low-level structures such as edges. The next layer combines these simple structures to more complex and more informative structures and so on. In this way the extractor part of a deep neural network learns a hierarchy of informative features.\n",
    "\n",
    "Learned features in layers 1 and 2:\n",
    "<img src=\"https://maucher.home.hdm-stuttgart.de/Pics/zeilerLayers1-2.PNG\">\n",
    "\n",
    "Learned features in layer 3:\n",
    "<img src=\"https://maucher.home.hdm-stuttgart.de/Pics/zeilerLayer3.PNG\"> \n",
    "\n",
    "Learned features in layers 4 and 5:\n",
    "<img src=\"https://maucher.home.hdm-stuttgart.de/Pics/zeilerLayers4-5.PNG\"> "
   ]
  },
  {
   "cell_type": "markdown",
   "metadata": {
    "slideshow": {
     "slide_type": "slide"
    }
   },
   "source": [
    "### Milestone Alex-Net\n",
    "\n",
    "The picture below contains a very famous CNN - the so called [AlexNet](https://www.nvidia.cn/content/tesla/pdf/machine-learning/imagenet-classification-with-deep-convolutional-nn.pdf), which won the ImageNet contest in 2012. In the classification-task of this contest 1000 different objects must be recognized in images. For training 15 million labeled images have been applied. On a computer with two GTX 580 3GB GPUs training took about 6 days. AlexNet achieved a top-5 error rate of 15.4% - compared to 26.2% of the second best. AlexNet can be considered as an important milestone in the development and application of deep neural networks.\n",
    "<a id=\"alexnet\"></a>\n",
    "<img src=\"https://maucher.home.hdm-stuttgart.de/Pics/AlexNetArchitecture.png\" width=\"800\" align=\"center\">"
   ]
  },
  {
   "cell_type": "markdown",
   "metadata": {
    "slideshow": {
     "slide_type": "fragment"
    }
   },
   "source": [
    "The input of to the AlexNet is a 3-channel RGB-image. The dense-layer at the output consists of 1000 neurons, each refering to one of the 1000 object categories, which are distinguished in the ImageNet data. The index of the output-neuron with the maximum value indicates the most-probable object category. "
   ]
  },
  {
   "cell_type": "markdown",
   "metadata": {
    "slideshow": {
     "slide_type": "slide"
    }
   },
   "source": [
    "Between input- and output-layer, there are basically three different types of layers:\n",
    "* convolutional layers\n",
    "* pooling layers\n",
    "* fully connected layers\n",
    "\n",
    "Moreover, normalisation-layers, dropout-layers, deconvolution-layers and dilation-layers are also frequently applied in CNNs. In the following sections, these layer types are described."
   ]
  },
  {
   "cell_type": "markdown",
   "metadata": {
    "slideshow": {
     "slide_type": "slide"
    }
   },
   "source": [
    "## Convolution Layer\n",
    "\n",
    "A key concept of CNNs is the convolutional layer. This layer type applies convolutional filtering, which has already been introduced in section [preprocessing](../preprocessing/02filtering.ipynb). For recap, the basics of convolution-filtering are summarized in the next subsection.\n",
    "\n",
    "[//]: # \"In this section first the concept of conventional convolutional filtering is described. Then subsection [Convolutional Layer in CNNs](#convLayer) discusses the application of this concept in CNNs.\""
   ]
  },
  {
   "cell_type": "markdown",
   "metadata": {
    "slideshow": {
     "slide_type": "slide"
    }
   },
   "source": [
    "<a id=\"conceptConvolution\"></a>\n",
    "### Recap: 2D-Convolution Filtering\n",
    "\n",
    "Convolution Filtering of a 2D-Input of size \n",
    "\n",
    "$$\n",
    "(r \\times c)\n",
    "$$ \n",
    "\n",
    "with a 2D-Filter of size \n",
    "\n",
    "$$\n",
    "(a \\times b)\n",
    "$$\n",
    "\n",
    "is defined by applying the filter at each possible position and calculating the scalar product of the filter coefficients and the input-values covered by the current position of the filter. This scalar product is the filter-output at the corresponding position. \n",
    "If the filter is applied with a stepsize of $s=1$, then there exists $(r-a+1) \\times (c-b+1)$ possible positions for calculating the scalar product. Hence, the output of the convolution filtering is of size \n",
    "\n",
    "$$\n",
    "(r-a+1) \\times (c-b+1).\n",
    "$$\n",
    "\n",
    "Hereafter, we assume to have quadratic inputs of size $(r \\times r)$ and quadratic filters of size $(a \\times a)$. "
   ]
  },
  {
   "cell_type": "markdown",
   "metadata": {
    "slideshow": {
     "slide_type": "skip"
    }
   },
   "source": [
    "The picture below shows the convolution-filtering of a $(10 \\times 10)$ input with an average filter of size $(3 \\times 3)$. In this picture the filtering operation is only shown for the upper right and the lower left position. Actually, there are $(8 \\times 8)$ elements in the output.\n",
    "\n",
    "> **Note:** In signal processing convolution and correlation is not the same. Convolution is correlation with the filter rotated 180 degrees. In context of neural networks, where filter coefficients are learned, this distinction can be ignored. As it is common in machine learning literature, in this notebook convolution and correlation are the same."
   ]
  },
  {
   "cell_type": "markdown",
   "metadata": {
    "slideshow": {
     "slide_type": "slide"
    }
   },
   "source": [
    "<img src=\"https://maucher.home.hdm-stuttgart.de/Pics/ConvolutionConceptSmall.png\" width=\"600\" align=\"center\">"
   ]
  },
  {
   "cell_type": "markdown",
   "metadata": {
    "slideshow": {
     "slide_type": "slide"
    }
   },
   "source": [
    "#### Stepsize\n",
    "The filter need not be convolved in steps of $s=1$ across the input. Larger stepsizes yield a correspondingly smaller output. In the picture below filtering with stepsize of $s=2$ is shown below filtering the same input with a stepsize of $s=1$. \n",
    "\n",
    "<img src=\"https://maucher.home.hdm-stuttgart.de/Pics/ConvStepSizeSmall.png\" width=\"600\" align=\"center\">\n",
    "\n"
   ]
  },
  {
   "cell_type": "markdown",
   "metadata": {
    "slideshow": {
     "slide_type": "slide"
    }
   },
   "source": [
    "#### Zero-Padding\n",
    "Besides stepsize, *Padding* is an important parameter of convolutional filtering. A padding of $p>0$ means, that at the left, right, upper and lower boundary of the input $p$ columns (rows) of zeros are attached to the input. In the picture below a padding of $p=1$ (lower part) is compared with a convolutional filtering without padding (upper part).\n",
    "Often zero-padding is set such that the size of output is equal to the size of the input. For a stepsize of $s=1$ and an uneven filter-width of $a$, this is the case if\n",
    "\n",
    "$$\n",
    "p=\\frac{a-1}{2}\n",
    "$$\n",
    "\n",
    "<img src=\"https://maucher.home.hdm-stuttgart.de/Pics/ConvPaddingSmall.png\" width=\"600\" align=\"center\">\n"
   ]
  },
  {
   "cell_type": "markdown",
   "metadata": {
    "slideshow": {
     "slide_type": "slide"
    }
   },
   "source": [
    "For a quadratic input with sidelength `r`, a quadratic filter of side-length `a`,  a padding of `p`, and a stepsize of `s`, the quadratic output of convolution-filtering has a side-length of \n",
    "\n",
    "$$\n",
    "o=\\frac{r-a+2p}{s}+1.\n",
    "$$"
   ]
  },
  {
   "cell_type": "markdown",
   "metadata": {
    "slideshow": {
     "slide_type": "slide"
    }
   },
   "source": [
    "<img src=\"http://maucher.home.hdm-stuttgart.de/Pics/ConvolutionFilterDemo3.gif\" style=\"width:800px\" align=\"center\">"
   ]
  },
  {
   "cell_type": "markdown",
   "metadata": {
    "slideshow": {
     "slide_type": "slide"
    }
   },
   "source": [
    "<a id=\"convLayer\"></a>\n",
    "### Convolutional Layer in CNNs\n",
    "\n",
    "In Convolutional Neural Networks (CNN), Convolution-Layers implement the concept of convolution-filtering. However, in CNNs\n",
    "* the filter coefficients are not defined by the user. Instead they are **learned in the training phase**, such that these filters are able to detect patterns, which frequently occur in the training data. In the context of CNNs the filter-coefficients are called **weights**.\n",
    "* the output of a convolutional filter is called a **feature map**. All elements of a single feature map are calculated by the same set of **shared weights**.\n",
    "* the output-elements of a convolutional filter are typically fed element-wise to an **activation-function**, which maps single scalars to other scalars in a non-linear manner. \n",
    "* for a given input not only one, but **multiple feature maps** are calculated in parallel. Different feature maps have different sets of **shared weights**. \n",
    "* The input does not only contain one, but multiple parallel 2D arrays of equal size. These parallel 2D-arrays are called **channels**.\n"
   ]
  },
  {
   "cell_type": "markdown",
   "metadata": {
    "slideshow": {
     "slide_type": "slide"
    }
   },
   "source": [
    "Below, we start from the **Dense Layer** - the typical type of layer in conventional feed forward networks like Multi-Layer-Perceptrons. Coming from the dense layer, we first describe the difference to the 1-dimensional convolution convolution before we extend to the 2-dimensional convolution, as typically applied in CNNs for obect-recognition.   "
   ]
  },
  {
   "cell_type": "markdown",
   "metadata": {
    "slideshow": {
     "slide_type": "slide"
    }
   },
   "source": [
    "<a id=\"denselayer\"></a>\n",
    "#### Dense Layer (Fully Connected Layer)\n",
    "In conventional neural networks (Multi Layer Perceptron) each layer is a so called *Dense Layer* (or *fully connected layer*) as depicted in the image below: \n",
    "<img src=\"https://maucher.home.hdm-stuttgart.de/Pics/denseLayerTikz.png\" style=\"width: 600px\" />\n",
    "\n",
    "In a dense layer each neuron in layer $k$ is connected to all neurons in layer $k-1$.\n",
    "\n",
    "If $\\mathbf{x}=(x_1,x_2,\\ldots,x_n)$ is the input and $\\mathbf{y}=(y_1,y_2,\\ldots,y_m)$ is the output of a fully connected layer, then \n",
    "\n",
    "$$\n",
    "\\mathbf{y}=g(W \\cdot \\mathbf{x^T}),\n",
    "$$\n",
    "\n",
    "where $g()$ is the activation function and \n",
    "\n",
    "$$W=\\left(\n",
    "\t\t\\begin{array}{cccc}\n",
    "\t\tw_{1,1} & w_{1,2} & \\cdots & w_{1,n}  \\\\ \n",
    "\t\tw_{2,1} & w_{2,2} & \\cdots & w_{2,n}  \\\\ \n",
    "        \\vdots &  \\vdots  & \\ddots & \\vdots  \\\\\n",
    "\t\tw_{m,1} & w_{m,2} & \\cdots & w_{m,n}  \\\\ \n",
    "\t\t\\end{array}\n",
    "\t\t\\right)\n",
    "$$\n",
    "\n",
    "is the weight matrix. Entry $w_{i,j}$ is the weight from the $j.th$ element in $\\mathbf{x}$ to the $i.th$ element in $\\mathbf{y}$."
   ]
  },
  {
   "cell_type": "markdown",
   "metadata": {
    "slideshow": {
     "slide_type": "slide"
    }
   },
   "source": [
    "#### Simple Convolutional Layer 1-Dimensional\n",
    "\n",
    "In contrast to a dense layer, in a convolutional layer\n",
    "\n",
    "* neurons in the output of the layer are not connected to all neurons of the previous layer\n",
    "\n",
    "* all neurons in the output of the layer share the same weights\n",
    "\n",
    "The set of shared weights ($w_1, w_2, w_3$ in the picture below) are the learnable filter coefficients. These filter coefficients define a *feature*, which is extracted by this filter. The set of output-neurons, which share the same weight-set are called **feature map**. The value of each output neuron $y_j$ indicates how strong the feature, defined by the weight-set, is present in the input-area, which is connected to $y_j$.  \n",
    "\n",
    "A single feature map calculated from a single channel in a 1-dimensional convolutional layer is shown below:\n",
    "\n",
    "<img src=\"https://maucher.home.hdm-stuttgart.de/Pics/convLayer1DTikz.png\" style=\"width: 600px\" />"
   ]
  },
  {
   "cell_type": "markdown",
   "metadata": {
    "slideshow": {
     "slide_type": "slide"
    }
   },
   "source": [
    "#### Simple Convolutional Layer 2-Dimensional\n",
    "\n",
    "If the neurons in the input and output of the convolution layer are aranged as 2-dimensional arrays, and the shared weight-set is also 2-dimensional, we speak of a 2-dimensional convolution layer.\n",
    "\n",
    "A single feature map calculated from a single channel in a 2-dimensional convolutional layer as shown below:\n",
    "\n",
    "<img src=\"https://maucher.home.hdm-stuttgart.de/Pics/convLayer2DTikz.png\" style=\"width: 600px\" />\n",
    "\n",
    "The picture below represents the same operation as the picture above, but in a more abstract manner. We will use this simpler represenation in the sequel.\n",
    "\n",
    "<img src=\"https://maucher.home.hdm-stuttgart.de/Pics/convLayer2DarrayTikz.png\" style=\"width: 500px\" />"
   ]
  },
  {
   "cell_type": "markdown",
   "metadata": {
    "slideshow": {
     "slide_type": "slide"
    }
   },
   "source": [
    "<a id=\"multichannels\"></a>\n",
    "#### Multiple Channels at the input of the Convolutional Layer\n",
    "In CNNs the input to a convolutional layer is in general not a single 2D-array, but a set of multiple arrays (channels). For example in object recognition the input of the first convolutional layer $conv_1$ is usually the image. The number of channels is then 3 for a RGB-image and 1 for a greyscale image. For all of the following convolutional layers $conv_i, \\; i>1,$ the input is typically the set of (pooled) feature maps of the previous layer $conv_{i-1}$. In the picture below the calculation of the values of a single feature map from $L=3$ channels at the input of the convolutional layer is depicted. Note that for calculating the values of a single feature map, for each channel an individual filter is learned and applied. \n",
    "\n",
    "\n",
    "\n",
    "<img src=\"https://maucher.home.hdm-stuttgart.de/Pics/ConvolutionMultChan.png\" width=\"500\" align=\"center\">\n"
   ]
  },
  {
   "cell_type": "markdown",
   "metadata": {
    "slideshow": {
     "slide_type": "slide"
    }
   },
   "source": [
    "<a id=\"multifeatures\"></a>\n",
    "#### Multiple Feature Maps at the output of the Convolutional Layer\n",
    "The previous subsection demonstrated the calulation of a single feature map from multiple channels at the input of the convolutional layer. **In a CNN there are multiple channels at the input and multiple feature maps at the output of a convolutional layer.** For sake of simplicity - and because we already know how multiple channels at the input influence a single feature map at the output - the picture and the code cells below demonstrate how multiple feature maps at the output are calculated from a single channel. Note that each feature map has it's own set of shared weights (filter-coeffients) for each channel at the input of the convolutional layer:\n",
    "\n",
    "<img src=\"https://maucher.home.hdm-stuttgart.de/Pics/ConvolutionMultFeats.png\" width=\"500\" align=\"center\">\n",
    "\n"
   ]
  },
  {
   "cell_type": "markdown",
   "metadata": {
    "slideshow": {
     "slide_type": "slide"
    }
   },
   "source": [
    "#### Activation function\n",
    "Activation functions operate element-wise on the values of feature maps. The most common activation functions are \n",
    "* ReLU (Rectified Linear Unit)\n",
    "* sigmoid\n",
    "* tanh (tangens hyperbolicus)\n",
    "* linear\n",
    "* softmax\n",
    "* threshold\n",
    "These functions are defined and visualized below."
   ]
  },
  {
   "cell_type": "code",
   "execution_count": 1,
   "metadata": {
    "ExecuteTime": {
     "end_time": "2017-12-12T17:56:02.223000Z",
     "start_time": "2017-12-12T18:55:47.476000+01:00"
    },
    "slideshow": {
     "slide_type": "skip"
    }
   },
   "outputs": [],
   "source": [
    "import numpy as np\n",
    "np.set_printoptions(suppress=True,precision=2)\n",
    "from matplotlib import pyplot as plt"
   ]
  },
  {
   "cell_type": "code",
   "execution_count": 2,
   "metadata": {
    "ExecuteTime": {
     "end_time": "2017-12-03T19:03:24.392000Z",
     "start_time": "2017-12-03T20:03:24.352000+01:00"
    },
    "slideshow": {
     "slide_type": "skip"
    }
   },
   "outputs": [],
   "source": [
    "def sigmoid(input):\n",
    "    return 1/(1+np.exp(-input))"
   ]
  },
  {
   "cell_type": "code",
   "execution_count": 3,
   "metadata": {
    "ExecuteTime": {
     "end_time": "2017-12-03T19:03:24.453000Z",
     "start_time": "2017-12-03T20:03:24.406000+01:00"
    },
    "slideshow": {
     "slide_type": "skip"
    }
   },
   "outputs": [],
   "source": [
    "def tanh(input):\n",
    "    return np.tanh(input)"
   ]
  },
  {
   "cell_type": "code",
   "execution_count": 4,
   "metadata": {
    "ExecuteTime": {
     "end_time": "2017-12-03T19:03:24.511000Z",
     "start_time": "2017-12-03T20:03:24.465000+01:00"
    },
    "slideshow": {
     "slide_type": "skip"
    }
   },
   "outputs": [],
   "source": [
    "def linear(input):\n",
    "    return input"
   ]
  },
  {
   "cell_type": "code",
   "execution_count": 5,
   "metadata": {
    "ExecuteTime": {
     "end_time": "2017-12-03T19:03:24.564000Z",
     "start_time": "2017-12-03T20:03:24.523000+01:00"
    },
    "slideshow": {
     "slide_type": "skip"
    }
   },
   "outputs": [],
   "source": [
    "def relu(input):\n",
    "    return np.maximum(np.zeros(input.shape),input)"
   ]
  },
  {
   "cell_type": "code",
   "execution_count": 6,
   "metadata": {
    "slideshow": {
     "slide_type": "skip"
    }
   },
   "outputs": [],
   "source": [
    "def softmax(z):\n",
    "    \"\"\"Softmax activation function.\"\"\"\n",
    "    return np.exp(z)/np.sum(np.exp(z),axis=0)"
   ]
  },
  {
   "cell_type": "code",
   "execution_count": 7,
   "metadata": {
    "ExecuteTime": {
     "end_time": "2017-12-03T19:03:30.942000Z",
     "start_time": "2017-12-03T20:03:24.578000+01:00"
    },
    "slideshow": {
     "slide_type": "slide"
    }
   },
   "outputs": [
    {
     "data": {
      "image/png": "[encoded data removed]",
      "text/plain": [
       "<Figure size 720x720 with 4 Axes>"
      ]
     },
     "metadata": {
      "needs_background": "light"
     },
     "output_type": "display_data"
    }
   ],
   "source": [
    "R=6\n",
    "x=np.arange(-R,R,0.01)\n",
    "plt.figure(figsize=(10,10))\n",
    "###Sigmoid#################\n",
    "plt.subplot(2,2,1)\n",
    "plt.grid()\n",
    "ysig=sigmoid(x)\n",
    "plt.plot(x,ysig,'b-')\n",
    "plt.title(\"Sigmoid\")\n",
    "###Tanh####################\n",
    "plt.subplot(2,2,2)\n",
    "plt.grid()\n",
    "ytan=tanh(x)\n",
    "plt.plot(x,ytan,'g-')\n",
    "plt.title(\"Tanh\")\n",
    "###Linear##################\n",
    "ylin=linear(x)\n",
    "plt.subplot(2,2,3)\n",
    "plt.grid()\n",
    "plt.plot(x,ylin,'m-')\n",
    "plt.title(\"Linear\")\n",
    "###Relu####################\n",
    "yrelu=relu(x)\n",
    "plt.subplot(2,2,4)\n",
    "plt.grid()\n",
    "plt.plot(x,yrelu,'r-')\n",
    "plt.title(\"ReLU\")\n",
    "plt.show()"
   ]
  },
  {
   "cell_type": "markdown",
   "metadata": {
    "slideshow": {
     "slide_type": "slide"
    }
   },
   "source": [
    "## Pooling Layer in CNNs\n",
    "Convolutional layers extract spatial features from their input. The filters (sets of shared weights) define which features are extracted. In the training phase the filters are learned, such that after learning they represent patterns, which frequently appear in the training data. Since each element in a feature map corresponds to a unique region of the input, feature maps do not only represent if the feature is contained in the current input, but also where it is contained (spatial information). \n",
    "\n",
    "The benefits of **pooling layers** are:\n",
    "* they reduce the size of the input channels and therefore reduce complexity\n",
    "* they provide a certain degree of shift-invariance in the sense, that if in two inputs a certain feature appears not in exactly the same position, but in nearby positions they yield the same pooled output."
   ]
  },
  {
   "cell_type": "markdown",
   "metadata": {
    "slideshow": {
     "slide_type": "slide"
    }
   },
   "source": [
    "Similar as in a convolution layer, in pooling layers a filter is shifted across a 2D-input and calculates for each position a single value. However, in pooling layers\n",
    "* the filter weights are not learned, instead the operation performed is a fixed and often non-linear operation. Common pooling operations are:\n",
    "    * **max-pooling**: the filter outputs the maximum of it's current input region\n",
    "    * **min-pooling**: the filter outputs the minimum of it's current input region\n",
    "    * **mean-pooling**: the filter outputs the arithmetic mean of it's current input region\n",
    "  \n",
    "  The most frequent type is max-pooling.\n",
    "  \n",
    "* the common stepsize $s$ in a pooling layer is equal to the width of the filter $w$, i.e. the pooling filter operates on *non-overlapping* regions. Even though $s=w$ is the common configuration, it is not mandatory and there exist some good CNNs, whose pooling layers operate in a overlapping manner with $s<w$. \n",
    "\n",
    "In the picture below max-pooling with a filter width of $w=s=2$ is shown. In this case pooling reduces the size of the 2D-input by a factor of 2. "
   ]
  },
  {
   "cell_type": "markdown",
   "metadata": {
    "slideshow": {
     "slide_type": "slide"
    }
   },
   "source": [
    "\n",
    "<img src=\"https://maucher.home.hdm-stuttgart.de/Pics/MaxPooling.png\" width=\"600\" align=\"center\">\n",
    "\n",
    "\n",
    "The configuration sketched in the picture above is implemented in the code cells below."
   ]
  },
  {
   "cell_type": "markdown",
   "metadata": {
    "slideshow": {
     "slide_type": "slide"
    }
   },
   "source": [
    "## Concatenation of Convolution and Pooling\n",
    "\n",
    "As shown by the example of the [AlexNet architecture](#alexnet), in a CNN after the input layer usually a cascade of convolution followed by pooling is applied. Each convolutional layer extracts meaningful features and their location. Each pooling layer reduces the size of the channels and thus the spatial resolution of features. \n",
    "\n",
    "The image below shows a single sequence of convolution and pooling.   "
   ]
  },
  {
   "cell_type": "markdown",
   "metadata": {
    "slideshow": {
     "slide_type": "slide"
    }
   },
   "source": [
    "<a id=\"convrelupool\"></a>\n",
    "<img src=\"https://maucher.home.hdm-stuttgart.de/Pics/ConvActPool.png\" width=\"700\" align=\"center\">"
   ]
  },
  {
   "cell_type": "markdown",
   "metadata": {
    "slideshow": {
     "slide_type": "skip"
    }
   },
   "source": [
    "In subsections [Multiple Channels](#multichannels) and [Multiple Feature Maps](#multifeatures) it was already shown how to calculate a single feature map from multiple input channels and how to calculate multiple feature maps from a single input channel. Now, we have a combination of both of them: Multiple feature maps are calculated from multiple channels. For a convolutional Layer with $C$ input channels and $F$ feature maps at the output, the entire operation is defined by an array of $F$ rows and $C$ columns. Each element of this array is a 2-dim array $W_{ij}$, which is the filter applied for calculating feature map $i$ from channel $j$. Hence, the **entire convolutional operation** is defined by a **4-dim filter array**, whose\n",
    "\n",
    "* first dimension is the number of featuremaps $F$ at the output of the convolutional layer\n",
    "* second dimension is the number of channels $C$ at the input of the convolutional layer \n",
    "* third and forth dimension is given by the size of the covolutional filter $W_{ij}$.\n",
    "\n",
    "Correspondingly, the $C$ input channels can be arranged in a **3-dimensional input array**, whose\n",
    "\n",
    "* first dimension is the number of channels $C$ at the input of the convolutional layer\n",
    "* second dimension is the number of rows in each input channel\n",
    "* third dimension is the number of columns in each input channel\n",
    "\n",
    "Applying the 4-dimensional filter array on the 3-dimensional input array yields a **3-dimensional feature array**, whose \n",
    "\n",
    "* first dimension is the number of featuremaps $F$ in the output of the convolutional layer\n",
    "* second dimension is the number of rows in each featuremap at the output of the convolutional layer\n",
    "* third dimension is the number of columns in each featuremap at the output of the convolutional layer\n"
   ]
  },
  {
   "cell_type": "markdown",
   "metadata": {
    "slideshow": {
     "slide_type": "slide"
    }
   },
   "source": [
    "The picture below sketches the sequence of convolution, activation and pooling in an abstract manner: For $L_i$ input channels of convolutional layer $conv_i$ $L_{i+1}$ feature maps are calculated. These feature maps are processed by an activation function and fed to a pooling layer. The pooled $L_{i+1}$ feature maps are the $L_{i+1}$ input channel for the next convolutional layer. If no further convolution-layer is applied, the pooled feature maps are serialized and fed to a fully connected layer. \n",
    "\n",
    "<img src=\"https://maucher.home.hdm-stuttgart.de/Pics/ChannelCubes.png\" width=\"400\" align=\"center\">"
   ]
  },
  {
   "cell_type": "markdown",
   "metadata": {
    "slideshow": {
     "slide_type": "slide"
    }
   },
   "source": [
    "## Fully Connected Layers at CNN Output\n",
    "\n",
    "In CNNs cascades of convolution- and pooling layer learn to extract meaningful features. These learned features are then fed to a classifier or to a regressor, which outputs the estimated class or the estimated numeric value, respectively. The final classifier or regressor is usually implemented by a usual single- or multilayer perceptron (SLP or MLP), which consist of one or more dense layers (see [dense layer](#denselayer)), respectively. \n",
    "\n",
    "As shown in the picture below, the output of the last pooling layer is serialized before it is fed into a fully connected layer. In this example only one fully connected layer is applied, i.e. the classifier is just a SLP. Since there are 8 neurons in the output of the fully connected layer, this example architecture can be applied for a classification into 8 classes. In this case the output is usually processed by a **softmax-activation function**, which is not depicted in the image below. "
   ]
  },
  {
   "cell_type": "markdown",
   "metadata": {
    "slideshow": {
     "slide_type": "slide"
    }
   },
   "source": [
    "<img src=\"https://maucher.home.hdm-stuttgart.de/Pics/ConvActPoolFC.png\" width=\"800\" align=\"center\">"
   ]
  },
  {
   "cell_type": "markdown",
   "metadata": {
    "slideshow": {
     "slide_type": "slide"
    }
   },
   "source": [
    "<a id='cnnconceptcat'></a>\n",
    "### CNN Summary\n",
    "<img src=\"https://maucher.home.hdm-stuttgart.de/Pics/cnnConceptCat.png\" alt=\"Drawing\" style=\"width: 300px;\"/>\n",
    "\n",
    "Image source: [F. Chollet, Deep Learning with Python](https://www.manning.com/books/deep-learning-with-python)"
   ]
  },
  {
   "cell_type": "markdown",
   "metadata": {
    "slideshow": {
     "slide_type": "slide"
    }
   },
   "source": [
    "* The **Extractor-Part of a CNN** learns filters, which are able to extract **local structures**, which frequently occur in the training data.\n",
    "* Since the features are local, restricted to the size of the filter-kernel, it doesn't matter at which position in the training images the structures appear $\\Rightarrow$ **Translation invariance**\n",
    "* A CNN learns a **hierarchy of increasingly meaningful features**. Higher level features are combined from lower level features.\n",
    "* Using high-level features such as a cat-eye, a cat-ear and a cat-mouth, a **classifier** at the end of the CNN can easily determine the correct class (cat).\n",
    "* In the earlier layers, where the feature maps are quite large, the **location of features in the images** can be determined quite well.\n",
    "* The deeper the layers the smaller their size and the **smaller the spatial resolution**. I.e. location information gets smaller. In the extreme case, where the feature map consists of only a single neuron, location information is zero. \n",
    "* In some applications a classification task may benefit from zero-location information, in others location-information may support classification. "
   ]
  },
  {
   "cell_type": "markdown",
   "metadata": {
    "slideshow": {
     "slide_type": "slide"
    }
   },
   "source": [
    "### CNN Requirements\n",
    "CNNs (deep neural networks in general) usually consist of many layers and learnable parameters $\\Rightarrow$ A large set of training data is required to learn robust models. However, there exist approaches to apply deep neural networks with only small sets of trainingdata, e.g.\n",
    "\n",
    "* Apply (and fine-tune) pretrained networks\n",
    "* Apply **Active Learning**\n",
    "* Apply Data Augmentation techniques\n",
    "\n",
    "The application of CNNs (deep neural networks in general) only makes sense if input data is somehow correlated. E.g. spatial correlation as in the case of images or temporal correlations as in the case of time-series data or in the case of written or spoken language."
   ]
  },
  {
   "cell_type": "markdown",
   "metadata": {
    "slideshow": {
     "slide_type": "skip"
    }
   },
   "source": [
    "## Advanced concepts\n",
    "Above the basic concepts of CNNs, i.e. convolution-, pooling- and fully-connected layers have been introduced. Further concepts, frequently applied in CNNs are e.g.\n",
    "\n",
    "\n",
    "* normalization\n",
    "* dropout\n",
    "* dilation\n",
    "* deconvolution\n",
    "* 1x1 convolution\n",
    "\n",
    "These concepts are described in the following subsections."
   ]
  },
  {
   "cell_type": "markdown",
   "metadata": {
    "slideshow": {
     "slide_type": "skip"
    }
   },
   "source": [
    "<a id=\"convbymatrix\"></a>\n",
    "### Convolution as matrix multiplication\n",
    "\n",
    "In order to understand deconvolution, we first show how any convolution can be realized as a filter matrix-multiplication. \n",
    "\n",
    "Any convolutional filtering, as introduced above, can be calculated by matrix-multipliaction. Assume that the 2-dim input is\n",
    "\n",
    "$$\n",
    "\\mathbf{X}=\\left[\n",
    "\t\\begin{array}{cccc}\n",
    "\tx_{0,0} & x_{0,1} & x_{0,2} & x_{0,3} \\\\\n",
    "\tx_{1,0} & x_{1,1} & x_{1,2} & x_{1,3} \\\\\n",
    "\tx_{2,0} & x_{2,1} & x_{2,2} & x_{2,3} \\\\\n",
    "\tx_{3,0} & x_{3,1} & x_{3,2} & x_{3,3} \\\\\n",
    "\t\\end{array}\n",
    "\t\\right]\n",
    "$$\n",
    "    \n",
    "and the 2-dim filter is:\n",
    "\n",
    "$$\t\n",
    "\\mathbf{W}=\\left[\n",
    "\\begin{array}{ccc}\n",
    "w_{0,0} & w_{0,1} & w_{0,2} \\\\\n",
    "w_{1,0} & w_{1,1} & w_{1,2}\\\\\n",
    "w_{2,0} & w_{2,1} & w_{2,2}\\\\\n",
    "\\end{array}\n",
    "\\right]\n",
    "$$\n",
    "    \n",
    "Then the serialized representation of the filter output, $\\mathbf{Y_s}$, can be calculated by:\n",
    "\n",
    "$$\n",
    "\\mathbf{Y_s}=\\mathbf{W_S}*\\mathbf{X_S},\n",
    "$$\n",
    "\n",
    "where $\\mathbf{W_S}$ is \n",
    "\n",
    "$$\n",
    "\\mathbf{W_S}=\\left[\n",
    "\t\\begin{array}{cccccccccccccccc}\n",
    "\tw_{0,0} &  w_{0,1}  &   w_{0,2}   &    0  & w_{1,0} &  w_{1,1}  &   w_{1,2}   &    0  & w_{2,0} &  w_{2,1}  &   w_{2,2}   &    0  & 0 &  0  &   0   &    0  \\\\\n",
    "    0 & w_{0,0} &  w_{0,1}  &   w_{0,2}   &    0  & w_{1,0} &  w_{1,1}  &   w_{1,2}   &    0  & w_{2,0} &  w_{2,1}  &   w_{2,2}   &    0  & 0 &  0  &   0     \\\\\n",
    "    0 &  0  &   0   &    0 & w_{0,0} &  w_{0,1}  &   w_{0,2}   &    0  & w_{1,0} &  w_{1,1}  &   w_{1,2}   &    0  & w_{2,0} &  w_{2,1}  &   w_{2,2}   &    0   \\\\\n",
    "     0 & 0 &  0  &   0   &    0 & w_{0,0} &  w_{0,1}  &   w_{0,2}   &    0  & w_{1,0} &  w_{1,1}  &   w_{1,2}   &    0  & w_{2,0} &  w_{2,1}  &   w_{2,2}    \\\\\n",
    "\t\\end{array}\n",
    "\t\\right]\n",
    "    $$\n",
    "    \n",
    "and $\\mathbf{X_S}$ is the serialized representation of the input. \n",
    "\n",
    "$$\n",
    "\\mathbf{X_s}=\n",
    "\t\\left[\n",
    "\t\\begin{array}{c}\n",
    "\tX_{0,0} \\\\\n",
    "\tX_{0,1} \\\\\n",
    "\tX_{0,2} \\\\\n",
    "\tX_{0,3} \\\\\n",
    "\tX_{1,0} \\\\\n",
    "\tX_{1,1} \\\\\n",
    "\tX_{1,2} \\\\\n",
    "\tX_{1,3} \\\\\n",
    "\tX_{2,0} \\\\\n",
    "\tX_{2,1} \\\\\n",
    "\tX_{2,2} \\\\\n",
    "\tX_{2,3} \\\\\n",
    "\tX_{3,0} \\\\\n",
    "\tX_{3,1} \\\\\n",
    "\tX_{3,2} \\\\\n",
    "\tX_{3,3} \\\\\n",
    "\t\\end{array}\n",
    "\t\\right]\t\n",
    "$$\n",
    "\n",
    "Note that this matrix $\\mathbf{W_S}$ refers to the case of no zero-padding ($p=0$) and a step-size of $s=1$. However, it can easily be adopted to arbitrary values of $p$ and $s$."
   ]
  },
  {
   "cell_type": "markdown",
   "metadata": {
    "hide_input": false,
    "slideshow": {
     "slide_type": "slide"
    }
   },
   "source": [
    "### Deconvolution\n",
    "The concept of convolution has been described in [section Concept of 2D-convolution](#conceptConvolution). Applying a squared filter of side-length `a`, with a zero-padding of `p` and a stepsize of `s` on a squared input of side-length `r` yields a squared output of side-length\n",
    "\n",
    "$$\n",
    "o=\\frac{r-a+2p}{s}+1.\n",
    "$$\n",
    "\n",
    "Depending on the parameters the output of side-length `o` is usually smaller than the input of side-length `r`. However, there is sometimes also demand for **calculating an output, which is larger than the input of the corresponding layer**. For example in \n",
    "\n",
    "* architectures, which shall provide a visualisation of the learned features, such as in the famous work of Zeiler and Fergus, [Visualizing and Understanding Convolutional Networks](https://arxiv.org/pdf/1311.2901.pdf).\n",
    "* CNNs for increasing image resolution, e.g. [Accelerating the Super-Resolution CNN](http://mmlab.ie.cuhk.edu.hk/projects/FSRCNN.html),\n",
    "* generative networks, e.g. **Generative Adversarial Networks (GANs)** as introduced in [Goodfellow et al: Generative Adversarial Nets](https://arxiv.org/pdf/1406.2661.pdf),\n",
    "* CNNs for semantic segmentation, e.g. [Shelhamer et al: Fully Convolutional Networks for Semantic Segmentation](https://arxiv.org/pdf/1411.4038.pdf)\n",
    "\n",
    "The *increasing-operation* can be achieved by **deconvolutional layers**. Actually, the name *deconvolution* is misleading. Ihe operation shall be better named **transpose convolution**, because it is defined by multiplying the transposed matrix $W_S^T$ with an serialized from of the input. \n",
    "\n",
    "In section [Convolution as matrix multiplication](#convbymatrix) it was shown, that any convolution-filtering can be realized by matrix-multiplication:\n",
    "\n",
    "$$\n",
    "\\mathbf{Y_s}=\\mathbf{W_S}*\\mathbf{X_S}\n",
    "$$\n",
    "\n",
    "The serialized input $\\mathbf{X_S}$ has $r^2$ components and the serialized output has $o^2$ components, where $r$ and $o$ are the side-lengths of the squared input and output, respectively. Hence, matrix $\\mathbf{W_S}$ has $o^2$ rows and $r^2$ columns. The transpose of this matrix $\\mathbf{W_S^T}$ has $r^2$ rows and $o^2$ columns. Since, usually $o<r$, the multiplication of an input $\\mathbf{U_S}$ with $\\mathbf{W_S^T}$ yields a *larger output*\n",
    "\n",
    "$$\n",
    "\\mathbf{V_s}=\\mathbf{W_S^T}*\\mathbf{U_S}.\n",
    "$$\n"
   ]
  },
  {
   "cell_type": "markdown",
   "metadata": {
    "slideshow": {
     "slide_type": "slide"
    }
   },
   "source": [
    "#### Application of Deconvolution for Semantic Image Segmentation\n",
    "Source: [Shelhamer et al; Fully Convolutional Networks for Semantic Image Segmentaion](https://people.eecs.berkeley.edu/~jonlong/long_shelhamer_fcn.pdf)\n",
    "\n",
    "<img src=\"https://maucher.home.hdm-stuttgart.de/Pics/shelhamerSemanticSegmentation.png\" style=\"width:500px\" align=\"center\">\n",
    "\n",
    "<img src=\"https://maucher.home.hdm-stuttgart.de/Pics/shelhamerNet.png\" style=\"width:500px\" align=\"center\">\n",
    "\n"
   ]
  },
  {
   "cell_type": "markdown",
   "metadata": {
    "slideshow": {
     "slide_type": "slide"
    }
   },
   "source": [
    "### Dilated Convolution\n",
    "In the convolution operation as introduced above, the input to the filter at a given position is a small contiguous field within the input-array, e.g. an area of $(3 \\times 3)$ pixels. This area of contiguous values, which influence the output at a given position of the filter is also called **local receptive field**. In a dilated convolution the local receptive field of a filter need not be a contiguous area. Instead, a **dilation rate of $d$** defines, that there are $d-1$ gaps inbetween the elements, which constitute the local receptive field. The lower part in the picture below shows a dilated convolutional filtering with $d=2$.\n",
    "\n",
    "![Semantic Segmentation Net](https://maucher.home.hdm-stuttgart.de/Pics/ConvDilated.png)"
   ]
  },
  {
   "cell_type": "markdown",
   "metadata": {
    "slideshow": {
     "slide_type": "skip"
    }
   },
   "source": [
    "If the width of a filter without dilation is $a$, the corresponding area covered by this filter with a dilation rate of $d$ is $(a-1)d+1$. The side-length of the filter-result is then\n",
    "\n",
    "$$\n",
    "o=\\frac{r+2p-(a-1)d-1}{s}+1.\n",
    "$$\n",
    "\n",
    "Dilation allows the extraction of features, from a larger input area, without increasing the filter-width and thus the number of parameters, which must be learned. Simultaneously it implies a stronger subsampling, thus pooling may be not required."
   ]
  },
  {
   "cell_type": "markdown",
   "metadata": {},
   "source": [
    "### Dropout\n",
    "\n",
    "Dropout is a technique to prevent Neural Networks, such as MLPs, CNNs, LSTMs from overfitting. The key idea is to randomly drop units along with their connections from the neural network during training. This prevents units from co-adapting too much. The drop of a defined ratio (0.1-0.5) of random neurons is valid only for one iteration. During this iteration the weights of the droped units are not adapted. In the next iteration another set of units, which are dropped temporarily is randomly selected. Dropout is only applied in the training-phase.  \n",
    "![Dropout](https://maucher.home.hdm-stuttgart.de/Pics/dropout.PNG)"
   ]
  },
  {
   "cell_type": "markdown",
   "metadata": {
    "slideshow": {
     "slide_type": "slide"
    }
   },
   "source": [
    "### Normalization\n",
    "\n",
    "#### Normalization in General\n",
    "\n",
    "Many Machine-Learning algorithms require a normalized input. This is particular true for algorithms, which apply (stochastic) gradient descent training, such as neural networks. Normalization means, that data is transformed such that each feature has a mean of 0 and a variance of 1. Normalisation usually provides more efficient training and better generalising models.\n",
    "\n",
    "For example in the following dataset, mean and standard-deviation of the 3 features (columns) differ strongly. In a neural network, the effect of such a difference would be that weight-adaptations for features with high values are much stronger, than for features with low values.  \n"
   ]
  },
  {
   "cell_type": "code",
   "execution_count": 8,
   "metadata": {
    "slideshow": {
     "slide_type": "fragment"
    }
   },
   "outputs": [
    {
     "name": "stdout",
     "output_type": "stream",
     "text": [
      "[[    18.        0.01  17000.  ]\n",
      " [    37.        0.    87000.  ]\n",
      " [    40.        0.02  90000.  ]\n",
      " [    52.        0.   120000.  ]\n",
      " [    25.        0.07  42000.  ]\n",
      " [    31.        0.01  46000.  ]]\n"
     ]
    }
   ],
   "source": [
    "rawdata=np.array([[18,0.01,17000],\n",
    "                  [37,0.003,87000],\n",
    "                  [40,0.02,90000],\n",
    "                  [52,0.0001,120000],\n",
    "                  [25,0.07,42000],\n",
    "                  [31,0.008,46000],\n",
    "                 ])\n",
    "print(rawdata)"
   ]
  },
  {
   "cell_type": "markdown",
   "metadata": {
    "slideshow": {
     "slide_type": "slide"
    }
   },
   "source": [
    "For normalization, first the mean and the standard-variation is calculated for each feature. Then from each value $x_{i,j}$ in the datamatrix, the column-mean $mean_j$ is subtracted and the result is divided by the column-standard-deviation $std_j$:\n",
    "\n",
    "$$\n",
    "x'_{i,j}=\\frac{x_{i,j}-mean_j}{std_j}\n",
    "$$"
   ]
  },
  {
   "cell_type": "code",
   "execution_count": 9,
   "metadata": {
    "slideshow": {
     "slide_type": "fragment"
    }
   },
   "outputs": [
    {
     "name": "stdout",
     "output_type": "stream",
     "text": [
      "mean values of columns:\n",
      " [   33.83     0.02 67000.  ]\n",
      "standard-deviations of columns:\n",
      " [   10.92     0.02 34890.3 ]\n"
     ]
    }
   ],
   "source": [
    "featmean=rawdata.mean(axis=0)\n",
    "featstd=rawdata.std(axis=0)\n",
    "print(\"mean values of columns:\\n\",featmean)\n",
    "print(\"standard-deviations of columns:\\n\",featstd)"
   ]
  },
  {
   "cell_type": "code",
   "execution_count": 10,
   "metadata": {
    "slideshow": {
     "slide_type": "fragment"
    }
   },
   "outputs": [
    {
     "name": "stdout",
     "output_type": "stream",
     "text": [
      "Normalized data:\n",
      " [[-1.45 -0.36 -1.43]\n",
      " [ 0.29 -0.65  0.57]\n",
      " [ 0.56  0.06  0.66]\n",
      " [ 1.66 -0.77  1.52]\n",
      " [-0.81  2.16 -0.72]\n",
      " [-0.26 -0.44 -0.6 ]]\n"
     ]
    }
   ],
   "source": [
    "normalizeddata=(rawdata-featmean)/featstd\n",
    "print(\"Normalized data:\\n\",normalizeddata)"
   ]
  },
  {
   "cell_type": "code",
   "execution_count": 11,
   "metadata": {
    "slideshow": {
     "slide_type": "fragment"
    }
   },
   "outputs": [
    {
     "name": "stdout",
     "output_type": "stream",
     "text": [
      "Mean of normalized data:\n",
      " [-0.  0. -0.]\n",
      "Standard-deviation of normalized data:\n",
      " [1. 1. 1.]\n"
     ]
    }
   ],
   "source": [
    "print(\"Mean of normalized data:\\n\",normalizeddata.mean(axis=0))\n",
    "print(\"Standard-deviation of normalized data:\\n\",normalizeddata.std(axis=0))"
   ]
  },
  {
   "cell_type": "markdown",
   "metadata": {
    "slideshow": {
     "slide_type": "slide"
    }
   },
   "source": [
    "As can be seen in the previous output, after normalisation all features have a mean of 0 and a standard deviation of 1.\n",
    "\n",
    "As mentioned above, data shall be normalized before it is passed to a neural network. However, it may also be helpfull to normalize data within a neural network. This is particularly advisable, if unbounded activation functions, such as ReLu are applied. In order to limit the unbounded activation from increasing the output layer values, normalization is used **before the activation function**. \n",
    "\n",
    "In the following two subsections 2 different types of normalisation within neural networks are described: *Local Response Normalisation* and *Batch Normalisation*. "
   ]
  },
  {
   "cell_type": "markdown",
   "metadata": {
    "slideshow": {
     "slide_type": "slide"
    }
   },
   "source": [
    "#### Local Response Normalisation\n",
    "\n",
    "Local Response Normalisation (LRN) has been applied in {cite}`KrizhevskySutskeverHinton` in order to limit activation values. Moreover, LRN models [lateral inhibition](https://en.wikipedia.org/wiki/Lateral_inhibition). In neurobiology lateral inhibition refers to the capacity of a neuron to reduce the activity of its neighbors. \n",
    "\n",
    "\n",
    "\n",
    "As depicted in the image below, two variants of LRN exist:\n",
    "\n",
    "![Semantic Segmentation Net](https://maucher.home.hdm-stuttgart.de/Pics/channelCubeLRN.png)\n",
    "\n",
    "**Inter-Channel LRN:**\n",
    "\n",
    "In this variant the averaging is performed along the channel-dimension (see left-hand-side in the image above). For channel $i$ the new value $b^i_{x,y}$ at the spatial position $(x,y)$ is calculated from the original values $a^j_{x,y}$ as follows:\n",
    "\n",
    "$$\n",
    "b^i_{x,y} = a^i_{x,y} \\frac{1}{\\left(k+\\alpha \\sum\\limits_{j=\\max(0,i-n/2)}^{\\min(d-1,i+n/2)}(a^j_{x,y})^2 \\right)^{\\beta}}\n",
    "$$\n",
    "Here, $k, \\alpha, \\beta$ and $n$ are hyperparameters. In the picture above $n/2=1$ and the input size is $d=4,r=4,c=5$.\n",
    "\n",
    "**Intra-Channel LRN:**\n",
    "\n",
    "In this variant the averaging is performed within a single channel over a spatial neighborhood (see right-hand-side in the image above). \n",
    "For channel $i$ the new value $b^i_{x,y}$ at the spatial position $(x,y)$ is calculated from the original values $a^i_{x,y}$ as follows:\n",
    "\n",
    "$$\n",
    "b^i_{x,y} = a^i_{x,y} \\frac{1}{\\left(k+\\alpha \\sum\\limits_{u=\\max(0,x-n/2)}^{\\min(c,x+n/2)}\\sum\\limits_{v=\\max(0,y-n/2)}^{\\min(r,y+n/2)}(a^i_{u,v})^2 \\right)^{\\beta}}\n",
    "$$\n",
    "\n",
    "As can be seen in the LRN-equations above the transformation depends only on hyperparameters and the values of the current input, i.e. no parameters must be learned for a LRN-layer."
   ]
  },
  {
   "cell_type": "markdown",
   "metadata": {
    "slideshow": {
     "slide_type": "slide"
    }
   },
   "source": [
    "#### Batch-Normalization\n",
    "\n",
    "In contrast to LRN, batch-normalisation is a trainable layer. Normalisation parameters must be determined from training-batches. Batch-normalisation has been introduced in {cite}`Ioffe`. It helps to mitigate the **Internal Covariate Shift (ICA)** problem, enables a better propagation of the gradients during training and thus provides the possibility of deeper neural networks (without Batch-Normalisation the **vanishing gradient problem** causes ineffective learning in the case of very deep networks).[^1]  \n",
    "\n",
    "Batch-normalisation is performerd for each single neuron in the layer individually. I.e. for each single element $x$ at a concrete position within the 3-dimensional neuron-cube (as depicted in the pictures above) normalisation is performed as follows:\n",
    "\n",
    "1. Determine the mean $\\mu_B$ by averaging the activation of the concrete neuron over the entire minibatch $B$ of size $m$:\n",
    "\n",
    "    $$\n",
    "    \\mu_B = \\frac{1}{m}\\sum\\limits_{i=1}^m x_i\n",
    "    $$\n",
    "\n",
    "2. Determine the corresponding variance $\\sigma^2$\n",
    "\n",
    "    $$\n",
    "    \\sigma^2_B=\\frac{1}{m}\\sum\\limits_{i=1}^m (x_i - \\mu_B)^2\n",
    "    $$\n",
    "\n",
    "3. Noramlize the value at the given neuron by\n",
    "\n",
    "    $$\n",
    "    \\hat{x}_i = \\frac{x_i - \\mu_B}{\\sqrt{\\sigma^2_B + \\epsilon}}\n",
    "    $$\n",
    "\n",
    "4. Scale and shift the normalized value by:\n",
    "\n",
    "    $$\n",
    "    y_i = \\gamma \\hat{x}_i + \\beta\n",
    "    $$\n",
    "    \n",
    "    Parameters $\\gamma$ and $\\beta$ are learned during training. \n",
    "\n",
    "Instead of the values $x_i$ the normalized values $y_i$ are passed to the activation function of the layer. Note that for each neuron in the layer two parameters $\\gamma$ and $\\beta$ must be learned.\n",
    "\n",
    "\n",
    "[^1]: The ICA problem is nicely explained in [https://learnopencv.com/batch-normalization-in-deep-networks/](https://learnopencv.com/batch-normalization-in-deep-networks/)."
   ]
  },
  {
   "cell_type": "markdown",
   "metadata": {},
   "source": [
    "### 1x1 Convolution\n",
    "\n",
    "As described above, convolution-filtering provides the possibility to extract spatially extended features. The size of the filter defines the size of the feature, that can be extracted. A feature which is stretched over $p \\times p$ pixels requires a filter of at least this size to extract it. In this view a $1 \\times 1$-filter sounds impractical. \n",
    "\n",
    "A *usual* filter-size of $3 \\times 3$ and a filter of size $1 \\times 1$ is visualized in the image below.\n",
    "\n",
    "![Semantic Segmentation Net](https://maucher.home.hdm-stuttgart.de/Pics/channelCube1x1.png)\n",
    "\n",
    "A $1 \\times 1$-convolution can be viewed as an Dense-layer operated over all channels at a specific pixel location. As such it is often applied to reduce the number of channels (**dimensionality-reduction**), while keeping the spatial resolution constant. For this purpose $1 \\times 1$-convolution is applied e.g. in [inception modules (GoogLeNet)](cnns.md).\n"
   ]
  },
  {
   "cell_type": "markdown",
   "metadata": {},
   "source": [
    "#### Fully Convolutional Networks\n",
    "\n",
    "In Fully Convolutional Networks (FCN) Dense Layers are replaced by $1 \\times 1$ - convolutional filters. The fact, that no dense-layers are required provides the possibility to apply images of different size to the input of the network. In convolutional-layers varying input size yields varying output size, but in contrast to dense layers it does not apply varying weight-matrices!\n",
    "As depicted in the image below, in a FCN not only one class per input is calculated. Instead, the output is a **classification map**, which defines in which region which class is most likely. Such classification maps are applied e.g. for **semantic segmentation** (e.g. [Shelhamer et al; Fully Convolutional Networks for Semantic Image Segmentaion](https://people.eecs.berkeley.edu/~jonlong/long_shelhamer_fcn.pdf))\n",
    "\n",
    "\n",
    "<img src=\"https://maucher.home.hdm-stuttgart.de/Pics/ConvActPoolFullyConvolutional.png\" width=\"800\" align=\"center\">"
   ]
  },
  {
   "cell_type": "code",
   "execution_count": null,
   "metadata": {},
   "outputs": [],
   "source": []
  }
 ],
 "metadata": {
  "anaconda-cloud": {},
  "celltoolbar": "Slideshow",
  "kernelspec": {
   "display_name": "Python 3 (ipykernel)",
   "language": "python",
   "name": "python3"
  },
  "language_info": {
   "codemirror_mode": {
    "name": "ipython",
    "version": 3
   },
   "file_extension": ".py",
   "mimetype": "text/x-python",
   "name": "python",
   "nbconvert_exporter": "python",
   "pygments_lexer": "ipython3",
   "version": "3.8.13"
  },
  "nav_menu": {},
  "toc": {
   "base_numbering": 1,
   "nav_menu": {},
   "number_sections": true,
   "sideBar": true,
   "skip_h1_title": false,
   "title_cell": "Table of Contents",
   "title_sidebar": "Contents",
   "toc_cell": false,
   "toc_position": {},
   "toc_section_display": "block",
   "toc_window_display": false
  },
  "toc_position": {
   "height": "690px",
   "left": "0px",
   "right": "1342.6px",
   "top": "125.2px",
   "width": "371px"
  }
 },
 "nbformat": 4,
 "nbformat_minor": 4
}
