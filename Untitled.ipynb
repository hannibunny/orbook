{
 "cells": [
  {
   "cell_type": "markdown",
   "id": "a2857ee0",
   "metadata": {},
   "source": [
    "# Unser erstes Notebook\n",
    "## Test\n",
    "das ist text und jetzt kommt eine Liste\n",
    "* item 1\n",
    "* item 2"
   ]
  },
  {
   "cell_type": "code",
   "execution_count": 1,
   "id": "a295f20e",
   "metadata": {},
   "outputs": [
    {
     "name": "stdout",
     "output_type": "stream",
     "text": [
      "Die Summe ist:  12\n"
     ]
    }
   ],
   "source": [
    "a=5\n",
    "b=7\n",
    "c=a+b\n",
    "print(\"Die Summe ist: \",c)"
   ]
  },
  {
   "cell_type": "markdown",
   "id": "e303d690",
   "metadata": {},
   "source": []
  },
  {
   "cell_type": "code",
   "execution_count": null,
   "id": "93404f31",
   "metadata": {},
   "outputs": [],
   "source": []
  }
 ],
 "metadata": {
  "kernelspec": {
   "display_name": "Python 3 (ipykernel)",
   "language": "python",
   "name": "python3"
  },
  "language_info": {
   "codemirror_mode": {
    "name": "ipython",
    "version": 3
   },
   "file_extension": ".py",
   "mimetype": "text/x-python",
   "name": "python",
   "nbconvert_exporter": "python",
   "pygments_lexer": "ipython3",
   "version": "3.8.0"
  },
  "toc": {
   "base_numbering": 1,
   "nav_menu": {},
   "number_sections": true,
   "sideBar": true,
   "skip_h1_title": false,
   "title_cell": "Table of Contents",
   "title_sidebar": "Contents",
   "toc_cell": false,
   "toc_position": {},
   "toc_section_display": true,
   "toc_window_display": false
  }
 },
 "nbformat": 4,
 "nbformat_minor": 5
}
